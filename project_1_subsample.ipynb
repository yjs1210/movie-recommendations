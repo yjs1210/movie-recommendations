{
 "cells": [
  {
   "cell_type": "code",
   "execution_count": 43,
   "metadata": {},
   "outputs": [],
   "source": [
    "import pyspark\n",
    "from pyspark.sql import SparkSession\n",
    "import pandas as pd\n",
    "import matplotlib.pyplot as plt\n",
    "import random"
   ]
  },
  {
   "cell_type": "markdown",
   "metadata": {},
   "source": [
    "#### I take first 1000 rows to test my code -- 'limit (1000)'"
   ]
  },
  {
   "cell_type": "code",
   "execution_count": 44,
   "metadata": {},
   "outputs": [
    {
     "name": "stdout",
     "output_type": "stream",
     "text": [
      "root\n",
      " |-- userId: integer (nullable = true)\n",
      " |-- movieId: integer (nullable = true)\n",
      " |-- rating: double (nullable = true)\n",
      " |-- timestamp: integer (nullable = true)\n",
      "\n"
     ]
    }
   ],
   "source": [
    "spark = SparkSession.builder.appName('proj_1').getOrCreate()\n",
    "ratings = spark.read.csv('gs://moviercommendation/ml-latest/ratings.csv', header = True, inferSchema=True).limit(1000)\n",
    "ratings.printSchema()"
   ]
  },
  {
   "cell_type": "code",
   "execution_count": 45,
   "metadata": {},
   "outputs": [
    {
     "data": {
      "text/html": [
       "<div>\n",
       "<style scoped>\n",
       "    .dataframe tbody tr th:only-of-type {\n",
       "        vertical-align: middle;\n",
       "    }\n",
       "\n",
       "    .dataframe tbody tr th {\n",
       "        vertical-align: top;\n",
       "    }\n",
       "\n",
       "    .dataframe thead th {\n",
       "        text-align: right;\n",
       "    }\n",
       "</style>\n",
       "<table border=\"1\" class=\"dataframe\">\n",
       "  <thead>\n",
       "    <tr style=\"text-align: right;\">\n",
       "      <th></th>\n",
       "      <th>userId</th>\n",
       "      <th>movieId</th>\n",
       "      <th>rating</th>\n",
       "      <th>timestamp</th>\n",
       "    </tr>\n",
       "  </thead>\n",
       "  <tbody>\n",
       "    <tr>\n",
       "      <th>0</th>\n",
       "      <td>1</td>\n",
       "      <td>307</td>\n",
       "      <td>3.5</td>\n",
       "      <td>1256677221</td>\n",
       "    </tr>\n",
       "    <tr>\n",
       "      <th>1</th>\n",
       "      <td>1</td>\n",
       "      <td>481</td>\n",
       "      <td>3.5</td>\n",
       "      <td>1256677456</td>\n",
       "    </tr>\n",
       "    <tr>\n",
       "      <th>2</th>\n",
       "      <td>1</td>\n",
       "      <td>1091</td>\n",
       "      <td>1.5</td>\n",
       "      <td>1256677471</td>\n",
       "    </tr>\n",
       "    <tr>\n",
       "      <th>3</th>\n",
       "      <td>1</td>\n",
       "      <td>1257</td>\n",
       "      <td>4.5</td>\n",
       "      <td>1256677460</td>\n",
       "    </tr>\n",
       "    <tr>\n",
       "      <th>4</th>\n",
       "      <td>1</td>\n",
       "      <td>1449</td>\n",
       "      <td>4.5</td>\n",
       "      <td>1256677264</td>\n",
       "    </tr>\n",
       "  </tbody>\n",
       "</table>\n",
       "</div>"
      ],
      "text/plain": [
       "   userId  movieId  rating   timestamp\n",
       "0       1      307     3.5  1256677221\n",
       "1       1      481     3.5  1256677456\n",
       "2       1     1091     1.5  1256677471\n",
       "3       1     1257     4.5  1256677460\n",
       "4       1     1449     4.5  1256677264"
      ]
     },
     "execution_count": 45,
     "metadata": {},
     "output_type": "execute_result"
    }
   ],
   "source": [
    "pd.DataFrame(ratings.take(5), columns=ratings.columns)"
   ]
  },
  {
   "cell_type": "code",
   "execution_count": 72,
   "metadata": {},
   "outputs": [],
   "source": [
    "random.seed(100)"
   ]
  },
  {
   "cell_type": "code",
   "execution_count": 56,
   "metadata": {},
   "outputs": [],
   "source": [
    "def subsample(movies, n, p):\n",
    "    \"\"\"\n",
    "    The function subsample the list of movies that each user rates, based on following rule:\n",
    "    (i) If user has rated fewer than n movies, we keep all ratings\n",
    "    (ii) If user has rated a lot of movies, we keep only p percent of them via random selection\n",
    "    (iii) If number of movies * p percent is less than n, we randomly sample n movies and keep these ratings\n",
    "    \"\"\"\n",
    "    if len(movies) <= n:\n",
    "        return movies\n",
    "    elif int(p * len(movies)) <= n:\n",
    "        return random.sample(movies, n)\n",
    "    else:\n",
    "        return random.sample(movies, int(p * len(movies)))"
   ]
  },
  {
   "cell_type": "code",
   "execution_count": null,
   "metadata": {},
   "outputs": [],
   "source": [
    "# collect all movies each user has rated\n",
    "ratings_rdd = ratings.select(['userId', 'movieId']).rdd.map(list)\n",
    "users_rated_movies = ratings_rdd.groupByKey().mapValues(list)"
   ]
  },
  {
   "cell_type": "code",
   "execution_count": 57,
   "metadata": {},
   "outputs": [
    {
     "data": {
      "text/plain": [
       "PythonRDD[129] at RDD at PythonRDD.scala:52"
      ]
     },
     "execution_count": 57,
     "metadata": {},
     "output_type": "execute_result"
    }
   ],
   "source": [
    "N = 5\n",
    "P = 0.2\n",
    "# call subsample on rated movies\n",
    "subsampled_users_rated_movies= users_rated_movies.mapValues(lambda m: subsample(m, N, P))\n",
    "subsampled_users_rated_movies"
   ]
  },
  {
   "cell_type": "code",
   "execution_count": 59,
   "metadata": {
    "scrolled": false
   },
   "outputs": [
    {
     "data": {
      "text/plain": [
       "[(1, [1591, 2840, 1590, 2986, 1091]),\n",
       " (2, [2746, 170, 1296, 3363, 1962]),\n",
       " (3, [2024, 2028, 3171, 1985, 828]),\n",
       " (4,\n",
       "  [7153,\n",
       "   2054,\n",
       "   33437,\n",
       "   2542,\n",
       "   2949,\n",
       "   3868,\n",
       "   1445,\n",
       "   474,\n",
       "   4776,\n",
       "   33004,\n",
       "   2683,\n",
       "   1376,\n",
       "   43558,\n",
       "   3889,\n",
       "   1015,\n",
       "   1,\n",
       "   3793,\n",
       "   361,\n",
       "   3298,\n",
       "   3052,\n",
       "   31878,\n",
       "   45,\n",
       "   1396,\n",
       "   4719,\n",
       "   7143,\n",
       "   3578,\n",
       "   110,\n",
       "   4844,\n",
       "   514,\n",
       "   818,\n",
       "   5464,\n",
       "   1760,\n",
       "   2311,\n",
       "   3740,\n",
       "   1968,\n",
       "   4104,\n",
       "   5438,\n",
       "   7569,\n",
       "   292,\n",
       "   53000,\n",
       "   3825,\n",
       "   1207,\n",
       "   1126,\n",
       "   2762,\n",
       "   1769,\n",
       "   2004,\n",
       "   1616,\n",
       "   5954,\n",
       "   5378,\n",
       "   3316,\n",
       "   2541,\n",
       "   2478,\n",
       "   2058,\n",
       "   2889,\n",
       "   2770,\n",
       "   1500,\n",
       "   5418,\n",
       "   4226,\n",
       "   382,\n",
       "   253,\n",
       "   204,\n",
       "   4034,\n",
       "   2600,\n",
       "   2947,\n",
       "   3247,\n",
       "   1882,\n",
       "   39231,\n",
       "   1805,\n",
       "   8464,\n",
       "   5563,\n",
       "   34319,\n",
       "   4621,\n",
       "   2000,\n",
       "   405,\n",
       "   1653,\n",
       "   5903,\n",
       "   344,\n",
       "   2006,\n",
       "   6377,\n",
       "   1265,\n",
       "   5459,\n",
       "   4011,\n",
       "   198,\n",
       "   5945,\n",
       "   1393,\n",
       "   8861,\n",
       "   1615,\n",
       "   1375,\n",
       "   5049,\n",
       "   6550,\n",
       "   1370,\n",
       "   480,\n",
       "   44759,\n",
       "   42721,\n",
       "   2193,\n",
       "   454,\n",
       "   7348,\n",
       "   6016,\n",
       "   1606,\n",
       "   38061,\n",
       "   5152,\n",
       "   66,\n",
       "   875,\n",
       "   494,\n",
       "   52950,\n",
       "   3114,\n",
       "   379,\n",
       "   1608,\n",
       "   2140,\n",
       "   31696,\n",
       "   6333,\n",
       "   4701,\n",
       "   339,\n",
       "   1090,\n",
       "   1682,\n",
       "   5283,\n",
       "   3753,\n",
       "   423,\n",
       "   3635,\n",
       "   1215,\n",
       "   7811,\n",
       "   4638,\n",
       "   1320,\n",
       "   3745,\n",
       "   5507,\n",
       "   2152,\n",
       "   16,\n",
       "   2640,\n",
       "   175,\n",
       "   5107,\n",
       "   34,\n",
       "   6537,\n",
       "   2860,\n",
       "   145,\n",
       "   4679,\n",
       "   2989,\n",
       "   2150,\n",
       "   4678,\n",
       "   8914,\n",
       "   3835,\n",
       "   6548,\n",
       "   8972,\n",
       "   6003,\n",
       "   1079,\n",
       "   2355,\n",
       "   1385,\n",
       "   6539]),\n",
       " (5,\n",
       "  [48516,\n",
       "   51255,\n",
       "   1617,\n",
       "   5995,\n",
       "   858,\n",
       "   1147,\n",
       "   1193,\n",
       "   778,\n",
       "   49530,\n",
       "   40278,\n",
       "   7361,\n",
       "   48780,\n",
       "   55118,\n",
       "   54503]),\n",
       " (6, [204, 141, 457, 552, 224, 173, 163, 208]),\n",
       " (7, [3981, 41997, 3328, 4033, 531]),\n",
       " (8, [141, 1391, 1210, 1390, 12, 1113]),\n",
       " (9, [2858]),\n",
       " (10, [162, 1207, 1079, 902, 50, 910, 246, 750, 527, 661, 593, 594])]"
      ]
     },
     "execution_count": 59,
     "metadata": {},
     "output_type": "execute_result"
    }
   ],
   "source": [
    "subsampled_users_rated_movies.collect()"
   ]
  },
  {
   "cell_type": "markdown",
   "metadata": {},
   "source": [
    "#### Now restore these ratings back to dataframe"
   ]
  },
  {
   "cell_type": "code",
   "execution_count": 63,
   "metadata": {},
   "outputs": [],
   "source": [
    "subsampled_ratings = subsampled_users_rated_movies.flatMapValues(lambda x: x)\n",
    "subsampled_ratings = spark.createDataFrame(subsampled_ratings, ['userId', 'movieId'])"
   ]
  },
  {
   "cell_type": "code",
   "execution_count": 64,
   "metadata": {},
   "outputs": [
    {
     "data": {
      "text/html": [
       "<div>\n",
       "<style scoped>\n",
       "    .dataframe tbody tr th:only-of-type {\n",
       "        vertical-align: middle;\n",
       "    }\n",
       "\n",
       "    .dataframe tbody tr th {\n",
       "        vertical-align: top;\n",
       "    }\n",
       "\n",
       "    .dataframe thead th {\n",
       "        text-align: right;\n",
       "    }\n",
       "</style>\n",
       "<table border=\"1\" class=\"dataframe\">\n",
       "  <thead>\n",
       "    <tr style=\"text-align: right;\">\n",
       "      <th></th>\n",
       "      <th>userId</th>\n",
       "      <th>movieId</th>\n",
       "    </tr>\n",
       "  </thead>\n",
       "  <tbody>\n",
       "    <tr>\n",
       "      <th>0</th>\n",
       "      <td>1</td>\n",
       "      <td>3020</td>\n",
       "    </tr>\n",
       "    <tr>\n",
       "      <th>1</th>\n",
       "      <td>1</td>\n",
       "      <td>3826</td>\n",
       "    </tr>\n",
       "    <tr>\n",
       "      <th>2</th>\n",
       "      <td>1</td>\n",
       "      <td>1449</td>\n",
       "    </tr>\n",
       "    <tr>\n",
       "      <th>3</th>\n",
       "      <td>1</td>\n",
       "      <td>1257</td>\n",
       "    </tr>\n",
       "    <tr>\n",
       "      <th>4</th>\n",
       "      <td>1</td>\n",
       "      <td>2840</td>\n",
       "    </tr>\n",
       "  </tbody>\n",
       "</table>\n",
       "</div>"
      ],
      "text/plain": [
       "   userId  movieId\n",
       "0       1     3020\n",
       "1       1     3826\n",
       "2       1     1449\n",
       "3       1     1257\n",
       "4       1     2840"
      ]
     },
     "execution_count": 64,
     "metadata": {},
     "output_type": "execute_result"
    }
   ],
   "source": [
    "pd.DataFrame(subsampled_ratings.take(5), columns=subsampled_ratings.columns)"
   ]
  },
  {
   "cell_type": "markdown",
   "metadata": {},
   "source": [
    "#### Check if our subsample methods have removed all ratings for a certain movie"
   ]
  },
  {
   "cell_type": "code",
   "execution_count": 71,
   "metadata": {},
   "outputs": [
    {
     "name": "stdout",
     "output_type": "stream",
     "text": [
      "0% of movies have zero ratings\n"
     ]
    }
   ],
   "source": [
    "def iszero(c):\n",
    "    return 1 if c==0 else 0\n",
    "\n",
    "movie_ratings_count = subsampled_ratings.rdd.map(list).map(lambda (x, y): (y, x)).groupByKey().mapValues(len)\n",
    "# mark nonzero count as 1, zero counts as 0\n",
    "movie_ratings_binary = movie_ratings_count.map(lambda t: (iszero(t[1]), 1))\n",
    "zero_rated_movies = movie_ratings_binary.reduce(lambda t1, t2: (t1[0] + t2[0], t1[1] + t2[1]))\n",
    "zero_rated_movies_percentage = zero_rated_movies[0] / zero_rated_movies[1]\n",
    "print('{}% of movies have zero ratings'.format(zero_rated_movies_percentage * 100))"
   ]
  },
  {
   "cell_type": "markdown",
   "metadata": {},
   "source": [
    "In this case, we did not remove all ratings for amy movie due to downsampling, at least in first 1000 rows. This indicates that we perhaps can use a stricter downsampling proportion."
   ]
  },
  {
   "cell_type": "markdown",
   "metadata": {},
   "source": [
    "#### Join them back to original dataset to get ratings and time stamps, using userId and movieId as key"
   ]
  },
  {
   "cell_type": "code",
   "execution_count": null,
   "metadata": {},
   "outputs": [],
   "source": []
  }
 ],
 "metadata": {
  "kernelspec": {
   "display_name": "PySpark",
   "language": "python",
   "name": "pyspark"
  },
  "language_info": {
   "codemirror_mode": {
    "name": "ipython",
    "version": 2
   },
   "file_extension": ".py",
   "mimetype": "text/x-python",
   "name": "python",
   "nbconvert_exporter": "python",
   "pygments_lexer": "ipython2",
   "version": "2.7.14"
  }
 },
 "nbformat": 4,
 "nbformat_minor": 2
}
