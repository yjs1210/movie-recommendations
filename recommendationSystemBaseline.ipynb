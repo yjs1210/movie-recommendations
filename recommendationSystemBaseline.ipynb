{
  "nbformat": 4,
  "nbformat_minor": 0,
  "metadata": {
    "colab": {
      "name": "recommendationSystemBaseline.ipynb",
      "provenance": [],
      "collapsed_sections": [],
      "include_colab_link": true
    },
    "kernelspec": {
      "name": "python3",
      "display_name": "Python 3"
    }
  },
  "cells": [
    {
      "cell_type": "markdown",
      "metadata": {
        "id": "view-in-github",
        "colab_type": "text"
      },
      "source": [
        "<a href=\"https://colab.research.google.com/github/yjs1210/movie-recommendations/blob/master/recommendationSystemBaseline.ipynb\" target=\"_parent\"><img src=\"https://colab.research.google.com/assets/colab-badge.svg\" alt=\"Open In Colab\"/></a>"
      ]
    },
    {
      "cell_type": "code",
      "metadata": {
        "id": "N4ftDtXM1siL",
        "colab_type": "code",
        "outputId": "32c34afc-be1d-4ced-9520-5f907061600f",
        "colab": {
          "base_uri": "https://localhost:8080/",
          "height": 34
        }
      },
      "source": [
        "from google.colab import drive\n",
        "drive.mount('/content/drive')"
      ],
      "execution_count": 0,
      "outputs": [
        {
          "output_type": "stream",
          "text": [
            "Drive already mounted at /content/drive; to attempt to forcibly remount, call drive.mount(\"/content/drive\", force_remount=True).\n"
          ],
          "name": "stdout"
        }
      ]
    },
    {
      "cell_type": "code",
      "metadata": {
        "id": "MRhcM_z32MmK",
        "colab_type": "code",
        "colab": {}
      },
      "source": [
        "!apt-get install openjdk-8-jdk-headless -qq > /dev/null\n",
        "!wget -q https://www-us.apache.org/dist/spark/spark-2.4.4/spark-2.4.4-bin-hadoop2.7.tgz\n",
        "!tar xf spark-2.4.4-bin-hadoop2.7.tgz\n",
        "!pip install -q findspark"
      ],
      "execution_count": 0,
      "outputs": []
    },
    {
      "cell_type": "code",
      "metadata": {
        "id": "JIOLk8Rc2MpN",
        "colab_type": "code",
        "colab": {}
      },
      "source": [
        "import os\n",
        "os.environ[\"JAVA_HOME\"] = \"/usr/lib/jvm/java-8-openjdk-amd64\"\n",
        "os.environ[\"SPARK_HOME\"] = \"/content/spark-2.4.4-bin-hadoop2.7\""
      ],
      "execution_count": 0,
      "outputs": []
    },
    {
      "cell_type": "code",
      "metadata": {
        "id": "x507b0pb2Mt_",
        "colab_type": "code",
        "colab": {}
      },
      "source": [
        "import findspark\n",
        "findspark.init()\n",
        "from pyspark.sql import SparkSession\n",
        "spark = SparkSession.builder.master(\"local[*]\").getOrCreate()\n",
        "import pyspark.sql.functions as F\n",
        "import pyspark.sql.types as T"
      ],
      "execution_count": 0,
      "outputs": []
    },
    {
      "cell_type": "code",
      "metadata": {
        "id": "UbKHrzzG2Mw7",
        "colab_type": "code",
        "outputId": "5aa6cc10-da78-4b54-bafb-d422422d1a29",
        "colab": {
          "base_uri": "https://localhost:8080/",
          "height": 119
        }
      },
      "source": [
        "ratings = spark.read.csv('/content/drive/My Drive/RecommendationSystems/ml-20m/ratings.csv', header = True, inferSchema=True).limit(1000)\n",
        "ratings.printSchema()"
      ],
      "execution_count": 0,
      "outputs": [
        {
          "output_type": "stream",
          "text": [
            "root\n",
            " |-- userId: integer (nullable = true)\n",
            " |-- movieId: integer (nullable = true)\n",
            " |-- rating: double (nullable = true)\n",
            " |-- timestamp: integer (nullable = true)\n",
            "\n"
          ],
          "name": "stdout"
        }
      ]
    },
    {
      "cell_type": "code",
      "metadata": {
        "id": "gVYunVAGWAJ4",
        "colab_type": "code",
        "colab": {}
      },
      "source": [
        "class BaselineModel:\n",
        "\n",
        "  def __init__(self, user_column, item_column,ratings_column):\n",
        "    self.user_col = user_column\n",
        "    self.item_col = item_column\n",
        "    self.ratings_col = ratings_column\n",
        "\n",
        "  def __find_avg_of_col(self, data, column):\n",
        "    return data.select(F.mean(F.col(column))).collect()[0][0]\n",
        "\n",
        "  def __subtract_from_col(self, data, column, value):\n",
        "    return data.withColumn('normalized_' + column, F.col(column)-value)\n",
        "\n",
        "  def train(self, training_data):\n",
        "    user_col = self.user_col\n",
        "    item_col = self.item_col\n",
        "    ratings_col = self.ratings_col\n",
        "    user_bias = {}\n",
        "    item_bias = {}\n",
        "\n",
        "    # find average and calculate bias for user and item\n",
        "    avg_rating = self.__find_avg_of_col(training_data, ratings_col)\n",
        "    norm_training_data = self.__subtract_from_col(training_data, ratings_col, avg_rating)\n",
        "    user_bias = norm_training_data.groupby(user_col).agg(F.avg('normalized_' + ratings_col)).rdd.map(lambda x : (x[0],x[1])).collectAsMap()\n",
        "    item_bias = norm_training_data.groupby(item_col).agg(F.avg('normalized_' + ratings_col)).rdd.map(lambda x : (x[0],x[1])).collectAsMap()\n",
        "\n",
        "    self.training_data = norm_training_data\n",
        "    self.avg_rating = avg_rating\n",
        "    self.user_bias = user_bias\n",
        "    self.item_bias = item_bias\n",
        "    \n",
        "    return avg_rating, user_bias, item_bias"
      ],
      "execution_count": 0,
      "outputs": []
    },
    {
      "cell_type": "code",
      "metadata": {
        "id": "N_6xwhUzWANi",
        "colab_type": "code",
        "colab": {}
      },
      "source": [
        "baselineModel = BaselineModel(user_column='userId', item_column='movieId', ratings_column='rating')"
      ],
      "execution_count": 0,
      "outputs": []
    },
    {
      "cell_type": "code",
      "metadata": {
        "id": "FwYtiL9RL1w1",
        "colab_type": "code",
        "colab": {}
      },
      "source": [
        "avg_rating, user_bias, item_bias = baselineModel.train(ratings)"
      ],
      "execution_count": 0,
      "outputs": []
    },
    {
      "cell_type": "code",
      "metadata": {
        "id": "p1bHq_jjL14F",
        "colab_type": "code",
        "colab": {}
      },
      "source": [
        "def udf_predict(user_id, item_id):\n",
        "  return avg_rating + user_bias[user_id] + item_bias[item_id]"
      ],
      "execution_count": 0,
      "outputs": []
    },
    {
      "cell_type": "code",
      "metadata": {
        "id": "74RYksoWL17H",
        "colab_type": "code",
        "colab": {}
      },
      "source": [
        "def predict(test_data, user_column, item_column, ratings_column):\n",
        "  predict_udf = F.udf(udf_predict, T.FloatType())\n",
        "  return test_data.withColumn(ratings_column, predict_udf(F.col(user_column), F.col(item_column)))"
      ],
      "execution_count": 0,
      "outputs": []
    },
    {
      "cell_type": "code",
      "metadata": {
        "id": "qzm62-AvL1_U",
        "colab_type": "code",
        "outputId": "413466eb-8f91-4901-cf3f-d1ef72dcdd92",
        "colab": {
          "base_uri": "https://localhost:8080/",
          "height": 459
        }
      },
      "source": [
        "predict(ratings, user_column='userId', item_column='movieId', ratings_column='rating').show()"
      ],
      "execution_count": 0,
      "outputs": [
        {
          "output_type": "stream",
          "text": [
            "+------+-------+---------+----------+\n",
            "|userId|movieId|   rating| timestamp|\n",
            "+------+-------+---------+----------+\n",
            "|     1|      2| 3.264857|1112486027|\n",
            "|     1|     29| 3.514857|1112484676|\n",
            "|     1|     32| 3.389857|1112484819|\n",
            "|     1|     47|4.2648573|1112484727|\n",
            "|     1|     50|4.2648573|1112484580|\n",
            "|     1|    112| 3.514857|1094785740|\n",
            "|     1|    151| 3.514857|1094785734|\n",
            "|     1|    223|4.5148573|1112485573|\n",
            "|     1|    253| 4.181524|1112484940|\n",
            "|     1|    260|4.6398573|1112484826|\n",
            "|     1|    293|4.0148573|1112484703|\n",
            "|     1|    296| 4.181524|1112484767|\n",
            "|     1|    318|4.7648573|1112484798|\n",
            "|     1|    337| 3.264857|1094785709|\n",
            "|     1|    367|3.3148572|1112485980|\n",
            "|     1|    541| 4.681524|1112484603|\n",
            "|     1|    589|4.5148573|1112485557|\n",
            "|     1|    593|4.1398573|1112484661|\n",
            "|     1|    653| 3.514857|1094785691|\n",
            "|     1|    919| 3.764857|1094785621|\n",
            "+------+-------+---------+----------+\n",
            "only showing top 20 rows\n",
            "\n"
          ],
          "name": "stdout"
        }
      ]
    },
    {
      "cell_type": "code",
      "metadata": {
        "id": "qa0sR32fL1vL",
        "colab_type": "code",
        "outputId": "0f77c7c6-9f52-41f6-a613-c9d8cb622ef4",
        "colab": {
          "base_uri": "https://localhost:8080/",
          "height": 459
        }
      },
      "source": [
        "ratings.show()"
      ],
      "execution_count": 0,
      "outputs": [
        {
          "output_type": "stream",
          "text": [
            "+------+-------+------+----------+\n",
            "|userId|movieId|rating| timestamp|\n",
            "+------+-------+------+----------+\n",
            "|     1|      2|   3.5|1112486027|\n",
            "|     1|     29|   3.5|1112484676|\n",
            "|     1|     32|   3.5|1112484819|\n",
            "|     1|     47|   3.5|1112484727|\n",
            "|     1|     50|   3.5|1112484580|\n",
            "|     1|    112|   3.5|1094785740|\n",
            "|     1|    151|   4.0|1094785734|\n",
            "|     1|    223|   4.0|1112485573|\n",
            "|     1|    253|   4.0|1112484940|\n",
            "|     1|    260|   4.0|1112484826|\n",
            "|     1|    293|   4.0|1112484703|\n",
            "|     1|    296|   4.0|1112484767|\n",
            "|     1|    318|   4.0|1112484798|\n",
            "|     1|    337|   3.5|1094785709|\n",
            "|     1|    367|   3.5|1112485980|\n",
            "|     1|    541|   4.0|1112484603|\n",
            "|     1|    589|   3.5|1112485557|\n",
            "|     1|    593|   3.5|1112484661|\n",
            "|     1|    653|   3.0|1094785691|\n",
            "|     1|    919|   3.5|1094785621|\n",
            "+------+-------+------+----------+\n",
            "only showing top 20 rows\n",
            "\n"
          ],
          "name": "stdout"
        }
      ]
    },
    {
      "cell_type": "code",
      "metadata": {
        "id": "gkgQRLc1L1pt",
        "colab_type": "code",
        "colab": {}
      },
      "source": [
        ""
      ],
      "execution_count": 0,
      "outputs": []
    },
    {
      "cell_type": "code",
      "metadata": {
        "id": "HA3Q4cHQL1n6",
        "colab_type": "code",
        "colab": {}
      },
      "source": [
        ""
      ],
      "execution_count": 0,
      "outputs": []
    }
  ]
}