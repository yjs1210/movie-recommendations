{
  "nbformat": 4,
  "nbformat_minor": 0,
  "metadata": {
    "kernelspec": {
      "display_name": "Python 3",
      "language": "python",
      "name": "python3"
    },
    "language_info": {
      "codemirror_mode": {
        "name": "ipython",
        "version": 3
      },
      "file_extension": ".py",
      "mimetype": "text/x-python",
      "name": "python",
      "nbconvert_exporter": "python",
      "pygments_lexer": "ipython3",
      "version": "3.7.3"
    },
    "colab": {
      "name": "project_1_report.ipynb",
      "provenance": [],
      "collapsed_sections": []
    }
  },
  "cells": [
    {
      "cell_type": "markdown",
      "metadata": {
        "id": "uOy9KOYHFbw9",
        "colab_type": "text"
      },
      "source": [
        "# Movie Recommender Project Report \n",
        "<br>\n",
        "<font size=4> Team members: </font> <br><br>\n",
        "<font size=3> James Jungsuk Lee [UNI] </font><br>\n",
        "<font size=3> Ujjwal Peshin [UNI]</font><br>\n",
        "<font size=3> Bowen Zhou [UNI]</font><br>\n",
        "<font size=3> Zhongling Jiang [UNI]</font>"
      ]
    },
    {
      "cell_type": "code",
      "metadata": {
        "id": "mj56ikF2F87N",
        "colab_type": "code",
        "outputId": "91a4a26e-5061-4019-ca52-0c2a1fc0ec1a",
        "colab": {
          "base_uri": "https://localhost:8080/",
          "height": 125
        }
      },
      "source": [
        "from google.colab import drive\n",
        "drive.mount('/gdrive')"
      ],
      "execution_count": 3,
      "outputs": [
        {
          "output_type": "stream",
          "text": [
            "Go to this URL in a browser: https://accounts.google.com/o/oauth2/auth?client_id=947318989803-6bn6qk8qdgf4n4g3pfee6491hc0brc4i.apps.googleusercontent.com&redirect_uri=urn%3Aietf%3Awg%3Aoauth%3A2.0%3Aoob&scope=email%20https%3A%2F%2Fwww.googleapis.com%2Fauth%2Fdocs.test%20https%3A%2F%2Fwww.googleapis.com%2Fauth%2Fdrive%20https%3A%2F%2Fwww.googleapis.com%2Fauth%2Fdrive.photos.readonly%20https%3A%2F%2Fwww.googleapis.com%2Fauth%2Fpeopleapi.readonly&response_type=code\n",
            "\n",
            "Enter your authorization code:\n",
            "··········\n",
            "Mounted at /gdrive\n"
          ],
          "name": "stdout"
        }
      ]
    },
    {
      "cell_type": "code",
      "metadata": {
        "id": "nBfNcYDBGMow",
        "colab_type": "code",
        "outputId": "f214de1c-f590-4842-f409-5c4035d0c68a",
        "colab": {
          "base_uri": "https://localhost:8080/",
          "height": 258
        }
      },
      "source": [
        "!pip install pyspark"
      ],
      "execution_count": 0,
      "outputs": [
        {
          "output_type": "stream",
          "text": [
            "Collecting pyspark\n",
            "\u001b[?25l  Downloading https://files.pythonhosted.org/packages/87/21/f05c186f4ddb01d15d0ddc36ef4b7e3cedbeb6412274a41f26b55a650ee5/pyspark-2.4.4.tar.gz (215.7MB)\n",
            "\u001b[K     |████████████████████████████████| 215.7MB 55kB/s \n",
            "\u001b[?25hCollecting py4j==0.10.7\n",
            "\u001b[?25l  Downloading https://files.pythonhosted.org/packages/e3/53/c737818eb9a7dc32a7cd4f1396e787bd94200c3997c72c1dbe028587bd76/py4j-0.10.7-py2.py3-none-any.whl (197kB)\n",
            "\u001b[K     |████████████████████████████████| 204kB 43.9MB/s \n",
            "\u001b[?25hBuilding wheels for collected packages: pyspark\n",
            "  Building wheel for pyspark (setup.py) ... \u001b[?25l\u001b[?25hdone\n",
            "  Created wheel for pyspark: filename=pyspark-2.4.4-py2.py3-none-any.whl size=216130387 sha256=76c86d68320c99fad3fdf89bbba3b5422458bdbb7ab0aadb454f2dafb9ffab5e\n",
            "  Stored in directory: /root/.cache/pip/wheels/ab/09/4d/0d184230058e654eb1b04467dbc1292f00eaa186544604b471\n",
            "Successfully built pyspark\n",
            "Installing collected packages: py4j, pyspark\n",
            "Successfully installed py4j-0.10.7 pyspark-2.4.4\n"
          ],
          "name": "stdout"
        }
      ]
    },
    {
      "cell_type": "code",
      "metadata": {
        "id": "Y_MHn_s1GNnP",
        "colab_type": "code",
        "outputId": "911bc074-9681-40f2-bf99-b8b06e385650",
        "colab": {
          "base_uri": "https://localhost:8080/",
          "height": 301
        }
      },
      "source": [
        "!pip install surprise"
      ],
      "execution_count": 8,
      "outputs": [
        {
          "output_type": "stream",
          "text": [
            "Collecting surprise\n",
            "  Downloading https://files.pythonhosted.org/packages/61/de/e5cba8682201fcf9c3719a6fdda95693468ed061945493dea2dd37c5618b/surprise-0.1-py2.py3-none-any.whl\n",
            "Collecting scikit-surprise\n",
            "\u001b[?25l  Downloading https://files.pythonhosted.org/packages/f5/da/b5700d96495fb4f092be497f02492768a3d96a3f4fa2ae7dea46d4081cfa/scikit-surprise-1.1.0.tar.gz (6.4MB)\n",
            "\u001b[K     |████████████████████████████████| 6.5MB 2.3MB/s \n",
            "\u001b[?25hRequirement already satisfied: joblib>=0.11 in /usr/local/lib/python3.6/dist-packages (from scikit-surprise->surprise) (0.14.0)\n",
            "Requirement already satisfied: numpy>=1.11.2 in /usr/local/lib/python3.6/dist-packages (from scikit-surprise->surprise) (1.17.3)\n",
            "Requirement already satisfied: scipy>=1.0.0 in /usr/local/lib/python3.6/dist-packages (from scikit-surprise->surprise) (1.3.1)\n",
            "Requirement already satisfied: six>=1.10.0 in /usr/local/lib/python3.6/dist-packages (from scikit-surprise->surprise) (1.12.0)\n",
            "Building wheels for collected packages: scikit-surprise\n",
            "  Building wheel for scikit-surprise (setup.py) ... \u001b[?25l\u001b[?25hdone\n",
            "  Created wheel for scikit-surprise: filename=scikit_surprise-1.1.0-cp36-cp36m-linux_x86_64.whl size=1678043 sha256=2df9c53ae305cb5bb08d588400b1b0d6041009be7416b429af3b3153925ee457\n",
            "  Stored in directory: /root/.cache/pip/wheels/cc/fa/8c/16c93fccce688ae1bde7d979ff102f7bee980d9cfeb8641bcf\n",
            "Successfully built scikit-surprise\n",
            "Installing collected packages: scikit-surprise, surprise\n",
            "Successfully installed scikit-surprise-1.1.0 surprise-0.1\n"
          ],
          "name": "stdout"
        }
      ]
    },
    {
      "cell_type": "code",
      "metadata": {
        "id": "kMfzTPhgJoWn",
        "colab_type": "code",
        "colab": {}
      },
      "source": [
        "!apt-get install openjdk-8-jdk-headless -qq > /dev/null\n",
        "!wget -q https://www-us.apache.org/dist/spark/spark-2.4.4/spark-2.4.4-bin-hadoop2.7.tgz\n",
        "!tar xf spark-2.4.4-bin-hadoop2.7.tgz\n",
        "!pip install -q findspark"
      ],
      "execution_count": 0,
      "outputs": []
    },
    {
      "cell_type": "code",
      "metadata": {
        "id": "K5_4FNKsJcAR",
        "colab_type": "code",
        "colab": {}
      },
      "source": [
        "import os\n",
        "os.environ[\"JAVA_HOME\"] = \"/usr/lib/jvm/java-8-openjdk-amd64\"\n",
        "os.environ[\"SPARK_HOME\"] = \"/content/spark-2.4.4-bin-hadoop2.7\""
      ],
      "execution_count": 0,
      "outputs": []
    },
    {
      "cell_type": "code",
      "metadata": {
        "id": "DnA_6ZK8J41W",
        "colab_type": "code",
        "colab": {}
      },
      "source": [
        "import findspark\n",
        "findspark.init()\n",
        "from pyspark.sql import SparkSession\n",
        "spark = SparkSession.builder.master(\"local[*]\").getOrCreate()\n",
        "import pyspark.sql.functions as F\n",
        "import pyspark.sql.types as T"
      ],
      "execution_count": 0,
      "outputs": []
    },
    {
      "cell_type": "code",
      "metadata": {
        "id": "zmRBbfEmFbw_",
        "colab_type": "code",
        "colab": {}
      },
      "source": [
        "import numpy as np\n",
        "import pyspark\n",
        "from pyspark.sql import SparkSession\n",
        "import pandas as pd\n",
        "import matplotlib.pyplot as plt\n",
        "import random\n",
        "from pyspark.mllib.evaluation import RegressionMetrics, RankingMetrics\n",
        "from pyspark.sql import Window\n",
        "from pyspark.sql.functions import col, expr\n",
        "import pyspark.sql.functions as F\n",
        "import pyspark.sql.types as T\n",
        "\n",
        "from pyspark.ml.recommendation import ALS\n",
        "from pyspark.ml.evaluation import RegressionEvaluator\n",
        "from pyspark.ml.tuning import CrossValidator, ParamGridBuilder, TrainValidationSplit\n",
        "\n",
        "from surprise import AlgoBase\n",
        "from surprise import Dataset\n",
        "from surprise import accuracy\n",
        "from surprise import Reader\n",
        "from surprise import KNNBasic\n",
        "from surprise.model_selection import KFold\n",
        "from surprise.model_selection import train_test_split\n",
        "from surprise.model_selection import cross_validate\n",
        "import pandas as pd\n",
        "import random\n",
        "\n",
        "import itertools\n",
        "RANDOM_SPLIT_SEED = 24\n",
        "TRAIN_PROPORTION = 0.9\n",
        "TEST_PROPORTION = 1 - TRAIN_PROPORTION"
      ],
      "execution_count": 0,
      "outputs": []
    },
    {
      "cell_type": "markdown",
      "metadata": {
        "id": "aM7PIrjtFbxB",
        "colab_type": "text"
      },
      "source": [
        "### Answer to \n",
        "As data scientists of a digital media company, state your objectives in building a\n",
        "recommendation system. For example, what metrics do you care about, who is this system\n",
        "built to serve (users or your boss?), and what business rules may you care to introduce?"
      ]
    },
    {
      "cell_type": "markdown",
      "metadata": {
        "id": "amPxf27SFbxC",
        "colab_type": "text"
      },
      "source": [
        "As a data scientist, you want to create a solution that serves the users but as well as can satisify your coworkers such as your boss. Having key stakeholders bought into your idea is integral in adding value to the company. So here we list out a few metrics and ideas that we can focus on and also point out who they serve.\n",
        "\n",
        "Users: <br/>\n",
        "We want our users to feel engaged with our content. That means we want to push out recommendations that they can relate to and enjoy. Within the context of our project, we can measure accuracy of our model such as RMSE. However, there can be some other things we can measure as well that's a bit out of scope of this project such as serendipity of our recommendations and implicit feedbacks such as how long they listen or watch our recommendations even if they don't explicitly rate them.\n",
        "    \n",
        "Stakeholders: <br/>\n",
        "Stakeholders want to make sure that the solutions that we recommend are indeed better than what they can do or have done in the past. They also want to understand how this system is affecting the product that they own. This means that measurements such as accuracy is also useful for stakeholders, but we can additionally focus on model methods that help them interpret the model's output. This means using simpler methods such as KNN or exploring Matrix Factorization methods to see if there can be any patterns in a reduced dimension space that can make sense to human rationality."
      ]
    },
    {
      "cell_type": "markdown",
      "metadata": {
        "id": "jvAhgvmjFbxC",
        "colab_type": "text"
      },
      "source": [
        "## Part I: Data Preparation"
      ]
    },
    {
      "cell_type": "markdown",
      "metadata": {
        "id": "of9qli0YFbxD",
        "colab_type": "text"
      },
      "source": [
        "**Description: ** <br><br>"
      ]
    },
    {
      "cell_type": "markdown",
      "metadata": {
        "id": "2syqoXB7FbxD",
        "colab_type": "text"
      },
      "source": [
        "### Create a smaller development set"
      ]
    },
    {
      "cell_type": "code",
      "metadata": {
        "id": "zrqDD01uFbxE",
        "colab_type": "code",
        "outputId": "6315a4c1-a1ef-40ac-ccc2-3dbcf215dd3a",
        "colab": {
          "base_uri": "https://localhost:8080/",
          "height": 123
        }
      },
      "source": [
        "ratings = spark.read.csv('/gdrive/My Drive/Colab Notebooks/Data/ml-20m/ratings.csv', header = True, \n",
        "                         inferSchema=True).cache()\n",
        "ratings.printSchema()"
      ],
      "execution_count": 5,
      "outputs": [
        {
          "output_type": "stream",
          "text": [
            "root\n",
            " |-- userId: integer (nullable = true)\n",
            " |-- movieId: integer (nullable = true)\n",
            " |-- rating: double (nullable = true)\n",
            " |-- timestamp: integer (nullable = true)\n",
            "\n"
          ],
          "name": "stdout"
        }
      ]
    },
    {
      "cell_type": "code",
      "metadata": {
        "id": "QWGHIKYbFbxH",
        "colab_type": "code",
        "outputId": "f309bf87-9671-4a4d-c02c-4bb11331de2a",
        "colab": {
          "base_uri": "https://localhost:8080/",
          "height": 197
        }
      },
      "source": [
        "pd.DataFrame(ratings.take(5), columns=ratings.columns)"
      ],
      "execution_count": 6,
      "outputs": [
        {
          "output_type": "execute_result",
          "data": {
            "text/html": [
              "<div>\n",
              "<style scoped>\n",
              "    .dataframe tbody tr th:only-of-type {\n",
              "        vertical-align: middle;\n",
              "    }\n",
              "\n",
              "    .dataframe tbody tr th {\n",
              "        vertical-align: top;\n",
              "    }\n",
              "\n",
              "    .dataframe thead th {\n",
              "        text-align: right;\n",
              "    }\n",
              "</style>\n",
              "<table border=\"1\" class=\"dataframe\">\n",
              "  <thead>\n",
              "    <tr style=\"text-align: right;\">\n",
              "      <th></th>\n",
              "      <th>userId</th>\n",
              "      <th>movieId</th>\n",
              "      <th>rating</th>\n",
              "      <th>timestamp</th>\n",
              "    </tr>\n",
              "  </thead>\n",
              "  <tbody>\n",
              "    <tr>\n",
              "      <th>0</th>\n",
              "      <td>1</td>\n",
              "      <td>2</td>\n",
              "      <td>3.5</td>\n",
              "      <td>1112486027</td>\n",
              "    </tr>\n",
              "    <tr>\n",
              "      <th>1</th>\n",
              "      <td>1</td>\n",
              "      <td>29</td>\n",
              "      <td>3.5</td>\n",
              "      <td>1112484676</td>\n",
              "    </tr>\n",
              "    <tr>\n",
              "      <th>2</th>\n",
              "      <td>1</td>\n",
              "      <td>32</td>\n",
              "      <td>3.5</td>\n",
              "      <td>1112484819</td>\n",
              "    </tr>\n",
              "    <tr>\n",
              "      <th>3</th>\n",
              "      <td>1</td>\n",
              "      <td>47</td>\n",
              "      <td>3.5</td>\n",
              "      <td>1112484727</td>\n",
              "    </tr>\n",
              "    <tr>\n",
              "      <th>4</th>\n",
              "      <td>1</td>\n",
              "      <td>50</td>\n",
              "      <td>3.5</td>\n",
              "      <td>1112484580</td>\n",
              "    </tr>\n",
              "  </tbody>\n",
              "</table>\n",
              "</div>"
            ],
            "text/plain": [
              "   userId  movieId  rating   timestamp\n",
              "0       1        2     3.5  1112486027\n",
              "1       1       29     3.5  1112484676\n",
              "2       1       32     3.5  1112484819\n",
              "3       1       47     3.5  1112484727\n",
              "4       1       50     3.5  1112484580"
            ]
          },
          "metadata": {
            "tags": []
          },
          "execution_count": 6
        }
      ]
    },
    {
      "cell_type": "code",
      "metadata": {
        "id": "dAik73VMFbxJ",
        "colab_type": "code",
        "colab": {}
      },
      "source": [
        "random.seed(100)"
      ],
      "execution_count": 0,
      "outputs": []
    },
    {
      "cell_type": "code",
      "metadata": {
        "id": "BtpL1jhLFbxL",
        "colab_type": "code",
        "outputId": "c1b11817-a35d-4b3e-9a6f-42a157ad88cb",
        "colab": {
          "base_uri": "https://localhost:8080/",
          "height": 34
        }
      },
      "source": [
        "def subsample(movies, n, p):\n",
        "    \"\"\"\n",
        "    The function subsample the list of movies that each user rates, based on following rule:\n",
        "    (i) If user has rated fewer than n movies, we keep all ratings\n",
        "    (ii) If user has rated a lot of movies, we keep only p percent of them via random selection\n",
        "    (iii) If number of movies * p percent is less than n, we randomly sample n movies and \n",
        "         keep these ratings\n",
        "    \"\"\"\n",
        "    if len(movies) <= n:\n",
        "        return movies\n",
        "    elif int(p * len(movies)) <= n:\n",
        "        return random.sample(movies, n)\n",
        "    else:\n",
        "        return random.sample(movies, int(p * len(movies)))\n",
        "N = 5\n",
        "P = 0.01   \n",
        "# collect all movies each user has rated\n",
        "ratings_rdd = ratings.select(['userId', 'movieId']).rdd.map(list)\n",
        "users_rated_movies = ratings_rdd.groupByKey().mapValues(list)\n",
        "\n",
        "# call subsample on rated movies\n",
        "subsampled_users_rated_movies= users_rated_movies.mapValues(lambda m: subsample(m, N, P))\n",
        "\n",
        "# Now convert these ratings back to dataframe\n",
        "subsampled_ratings = subsampled_users_rated_movies.flatMapValues(lambda x: x)\n",
        "subsampled_ratings = spark.createDataFrame(subsampled_ratings, ['userId', 'movieId'])\n",
        "\n",
        "# check size of the subsampled dataset\n",
        "subsample_rowcounts = subsampled_ratings.count()\n",
        "subsample_percentage = subsample_rowcounts * 1.0 / ratings.count() * 100\n",
        "print ('The subsampled dataset is {0}% size of the original dataset, has {1} rows'.\\\n",
        "       format(subsample_percentage, subsample_rowcounts))"
      ],
      "execution_count": 8,
      "outputs": [
        {
          "output_type": "stream",
          "text": [
            "The subsampled dataset is 3.586952831570265% size of the original dataset, has 717400 rows\n"
          ],
          "name": "stdout"
        }
      ]
    },
    {
      "cell_type": "code",
      "metadata": {
        "id": "Bm208O-EFbxN",
        "colab_type": "code",
        "outputId": "793d667e-1664-4c45-f4f3-d1a26fbfc6bf",
        "colab": {
          "base_uri": "https://localhost:8080/",
          "height": 197
        }
      },
      "source": [
        "# Join them back to original dataset to get ratings and time stamps, using userId and movieId as key\n",
        "subsampled_ratings = subsampled_ratings.join(ratings, ['userId','movieid'], 'inner')\n",
        "subsampled_ratings.persist()\n",
        "pd.DataFrame(subsampled_ratings.take(5), columns=subsampled_ratings.columns)"
      ],
      "execution_count": 9,
      "outputs": [
        {
          "output_type": "execute_result",
          "data": {
            "text/html": [
              "<div>\n",
              "<style scoped>\n",
              "    .dataframe tbody tr th:only-of-type {\n",
              "        vertical-align: middle;\n",
              "    }\n",
              "\n",
              "    .dataframe tbody tr th {\n",
              "        vertical-align: top;\n",
              "    }\n",
              "\n",
              "    .dataframe thead th {\n",
              "        text-align: right;\n",
              "    }\n",
              "</style>\n",
              "<table border=\"1\" class=\"dataframe\">\n",
              "  <thead>\n",
              "    <tr style=\"text-align: right;\">\n",
              "      <th></th>\n",
              "      <th>userId</th>\n",
              "      <th>movieId</th>\n",
              "      <th>rating</th>\n",
              "      <th>timestamp</th>\n",
              "    </tr>\n",
              "  </thead>\n",
              "  <tbody>\n",
              "    <tr>\n",
              "      <th>0</th>\n",
              "      <td>25</td>\n",
              "      <td>372</td>\n",
              "      <td>4.0</td>\n",
              "      <td>1277961712</td>\n",
              "    </tr>\n",
              "    <tr>\n",
              "      <th>1</th>\n",
              "      <td>33</td>\n",
              "      <td>3596</td>\n",
              "      <td>1.0</td>\n",
              "      <td>966285315</td>\n",
              "    </tr>\n",
              "    <tr>\n",
              "      <th>2</th>\n",
              "      <td>71</td>\n",
              "      <td>112556</td>\n",
              "      <td>5.0</td>\n",
              "      <td>1417454105</td>\n",
              "    </tr>\n",
              "    <tr>\n",
              "      <th>3</th>\n",
              "      <td>258</td>\n",
              "      <td>50872</td>\n",
              "      <td>2.5</td>\n",
              "      <td>1220756369</td>\n",
              "    </tr>\n",
              "    <tr>\n",
              "      <th>4</th>\n",
              "      <td>273</td>\n",
              "      <td>5507</td>\n",
              "      <td>2.0</td>\n",
              "      <td>1044297869</td>\n",
              "    </tr>\n",
              "  </tbody>\n",
              "</table>\n",
              "</div>"
            ],
            "text/plain": [
              "   userId  movieId  rating   timestamp\n",
              "0      25      372     4.0  1277961712\n",
              "1      33     3596     1.0   966285315\n",
              "2      71   112556     5.0  1417454105\n",
              "3     258    50872     2.5  1220756369\n",
              "4     273     5507     2.0  1044297869"
            ]
          },
          "metadata": {
            "tags": []
          },
          "execution_count": 9
        }
      ]
    },
    {
      "cell_type": "markdown",
      "metadata": {
        "id": "98xXA-FuFbxP",
        "colab_type": "text"
      },
      "source": [
        "### Divide into training, validation and test set <br>\n",
        "\n",
        "**Description**: <br><br>\n",
        "\n",
        "\n",
        "**Output**: 'train' - training set,  'val' - validation set, 'test' - test set"
      ]
    },
    {
      "cell_type": "code",
      "metadata": {
        "id": "xDti9bFpFbxP",
        "colab_type": "code",
        "outputId": "7b00ecde-bfef-410a-e1b1-5a003206b740",
        "colab": {
          "base_uri": "https://localhost:8080/",
          "height": 123
        }
      },
      "source": [
        "subsampled_ratings = subsampled_ratings.withColumn(\"timestamp\", ratings[\"timestamp\"].cast(T.TimestampType()))\n",
        "subsampled_ratings.printSchema()"
      ],
      "execution_count": 10,
      "outputs": [
        {
          "output_type": "stream",
          "text": [
            "root\n",
            " |-- userId: long (nullable = true)\n",
            " |-- movieId: long (nullable = true)\n",
            " |-- rating: double (nullable = true)\n",
            " |-- timestamp: timestamp (nullable = true)\n",
            "\n"
          ],
          "name": "stdout"
        }
      ]
    },
    {
      "cell_type": "code",
      "metadata": {
        "id": "6aHblsY6FbxR",
        "colab_type": "code",
        "colab": {}
      },
      "source": [
        "limit = 3\n",
        "# test size\n",
        "test_size = 0.05\n",
        "def udf_user_limit(user_counts):\n",
        "    if user_counts < limit:\n",
        "        return -1\n",
        "    else:\n",
        "        if (user_counts * (1-test_size)) <= limit:\n",
        "            return limit\n",
        "        else:\n",
        "            return int(np.around(user_counts * (1-test_size)))\n",
        "user_limit = F.udf(udf_user_limit, T.IntegerType())"
      ],
      "execution_count": 0,
      "outputs": []
    },
    {
      "cell_type": "code",
      "metadata": {
        "id": "ahZIszvrFbxT",
        "colab_type": "code",
        "colab": {}
      },
      "source": [
        "# train-test function\n",
        "def train_test_split(data, col_to_split_on= 'userId', timestamp_col = 'timestamp'):\n",
        "    # original columns\n",
        "    orig_cols = data.columns\n",
        "    # define count col\n",
        "    count_col = 'count(' + col_to_split_on + ')'\n",
        "    # do user ratings count\n",
        "    counts_for_col = data.groupby(col_to_split_on).agg(F.count(col_to_split_on))\n",
        "    # generate limits on each user based on rules\n",
        "    limits = counts_for_col.withColumn('train_limit', user_limit(F.col(count_col)))\n",
        "    # remove users having less than limit no of ratings\n",
        "    limits_filtered = limits.filter(limits.train_limit > 0)\n",
        "    # generate row numbers based on temporality\n",
        "    data_row_num = data.withColumn(\"row_num\", F.row_number().over(Window.partitionBy(col_to_split_on).orderBy(timestamp_col)))\n",
        "    # join ratings and user counts dfs together\n",
        "    data_row_num = data_row_num.alias('a')\n",
        "    limits_filtered = limits_filtered.alias('b')\n",
        "    merged_data = data_row_num.join(limits_filtered,F.col('b.' + col_to_split_on) == F.col('a.' + col_to_split_on)).select([F.col('a.'+xx) for xx in data_row_num.columns] + [F.col('b.' + count_col),F.col('b.train_limit')])\n",
        "    # generate selection column based on number limit\n",
        "    final_train_test = merged_data.withColumn('selection', F.col('row_num') <= F.col('train_limit'))\n",
        "    # find train and test \n",
        "    train = final_train_test.filter(final_train_test.selection == True).select(orig_cols)\n",
        "    test = final_train_test.filter(final_train_test.selection == False).select(orig_cols)\n",
        "    return train, test"
      ],
      "execution_count": 0,
      "outputs": []
    },
    {
      "cell_type": "code",
      "metadata": {
        "id": "3Ha9aLJwFbxV",
        "colab_type": "code",
        "colab": {}
      },
      "source": [
        "# to check if test has more entities in any column\n",
        "def compatibility_test(train, test, cols_to_test = ['userId', 'movieId']):\n",
        "    cols_greater = []\n",
        "    for i in cols_to_test:\n",
        "        train_unique = train.select([i]).distinct().rdd.map(lambda x: x[0]).collect()\n",
        "        test_unique = test.select([i]).distinct().rdd.map(lambda x: x[0]).collect()\n",
        "        size = len(list(set(test_unique) - set(train_unique)))\n",
        "        print(\"Test has %d more %s\" %(size, i))\n",
        "        cols_greater.append(i)\n",
        "    return cols_greater"
      ],
      "execution_count": 0,
      "outputs": []
    },
    {
      "cell_type": "code",
      "metadata": {
        "id": "i-n4L2yIFbxY",
        "colab_type": "code",
        "outputId": "d14a4546-47ff-4840-aded-a34adeb3cbf9",
        "colab": {
          "base_uri": "https://localhost:8080/",
          "height": 87
        }
      },
      "source": [
        "traincv, test = train_test_split(subsampled_ratings, col_to_split_on= 'movieId', timestamp_col='timestamp')\n",
        "print((traincv.count(), len(traincv.columns)))\n",
        "print((test.count(), len(test.columns)))\n",
        "cols_greater = compatibility_test(traincv, test, cols_to_test=['userId', 'movieId'])"
      ],
      "execution_count": 14,
      "outputs": [
        {
          "output_type": "stream",
          "text": [
            "(677061, 4)\n",
            "(34966, 4)\n",
            "Test has 1116 more userId\n",
            "Test has 0 more movieId\n"
          ],
          "name": "stdout"
        }
      ]
    },
    {
      "cell_type": "code",
      "metadata": {
        "id": "8TX3pkb9Fbxa",
        "colab_type": "code",
        "outputId": "6a8db922-64b9-43d9-d51e-710f78526caf",
        "colab": {
          "base_uri": "https://localhost:8080/",
          "height": 105
        }
      },
      "source": [
        "for i in cols_greater:\n",
        "    traincv_unique = traincv.select([i]).distinct().rdd.map(lambda x: x[0]).collect()\n",
        "    test_unique = test.select([i]).distinct().rdd.map(lambda x: x[0]).collect()\n",
        "    unique_to_test = list(set(test_unique) - set(traincv_unique))\n",
        "    test = test[~test[i].isin(unique_to_test)]\n",
        "# After removing users/ movies not included in training set\n",
        "print((traincv.count(), len(traincv.columns)))\n",
        "print((test.count(), len(test.columns)))\n",
        "cols_greater = compatibility_test(traincv, test, cols_to_test=['userId', 'movieId'])\n",
        "test.persist()"
      ],
      "execution_count": 15,
      "outputs": [
        {
          "output_type": "stream",
          "text": [
            "(677061, 4)\n",
            "(29481, 4)\n",
            "Test has 0 more userId\n",
            "Test has 0 more movieId\n"
          ],
          "name": "stdout"
        },
        {
          "output_type": "execute_result",
          "data": {
            "text/plain": [
              "DataFrame[userId: bigint, movieId: bigint, rating: double, timestamp: timestamp]"
            ]
          },
          "metadata": {
            "tags": []
          },
          "execution_count": 15
        }
      ]
    },
    {
      "cell_type": "markdown",
      "metadata": {
        "id": "N66KEJGpFbxd",
        "colab_type": "text"
      },
      "source": [
        "Repeat the same logic on train / validation set split"
      ]
    },
    {
      "cell_type": "code",
      "metadata": {
        "id": "d3Q8dOzMFbxd",
        "colab_type": "code",
        "outputId": "f5835eb2-a3b3-4c1d-80d3-228ed4882a9f",
        "colab": {
          "base_uri": "https://localhost:8080/",
          "height": 87
        }
      },
      "source": [
        "train, val = train_test_split(traincv, col_to_split_on= 'movieId', timestamp_col='timestamp')\n",
        "print((train.count(), len(train.columns)))\n",
        "print((val.count(), len(val.columns)))\n",
        "cols_greater = compatibility_test(train, val, cols_to_test=['userId', 'movieId'])"
      ],
      "execution_count": 16,
      "outputs": [
        {
          "output_type": "stream",
          "text": [
            "(644002, 4)\n",
            "(33059, 4)\n",
            "Test has 1854 more userId\n",
            "Test has 0 more movieId\n"
          ],
          "name": "stdout"
        }
      ]
    },
    {
      "cell_type": "code",
      "metadata": {
        "id": "h_R8D2IHFbxf",
        "colab_type": "code",
        "outputId": "72d3c148-140f-4d17-85cc-9826ab53a1b9",
        "colab": {
          "base_uri": "https://localhost:8080/",
          "height": 105
        }
      },
      "source": [
        "for i in cols_greater:\n",
        "    train_unique = train.select([i]).distinct().rdd.map(lambda x: x[0]).collect()\n",
        "    val_unique = val.select([i]).distinct().rdd.map(lambda x: x[0]).collect()\n",
        "    unique_to_val = list(set(val_unique) - set(train_unique))\n",
        "    val = val[~val[i].isin(unique_to_val)]\n",
        "print((train.count(), len(train.columns)))\n",
        "print((val.count(), len(val.columns)))\n",
        "cols_greater = compatibility_test(train, val, cols_to_test=['userId', 'movieId'])\n",
        "train.persist()\n",
        "val.persist()"
      ],
      "execution_count": 17,
      "outputs": [
        {
          "output_type": "stream",
          "text": [
            "(644002, 4)\n",
            "(29317, 4)\n",
            "Test has 0 more userId\n",
            "Test has 0 more movieId\n"
          ],
          "name": "stdout"
        },
        {
          "output_type": "execute_result",
          "data": {
            "text/plain": [
              "DataFrame[userId: bigint, movieId: bigint, rating: double, timestamp: timestamp]"
            ]
          },
          "metadata": {
            "tags": []
          },
          "execution_count": 17
        }
      ]
    },
    {
      "cell_type": "markdown",
      "metadata": {
        "id": "UTG8XB7wFbxg",
        "colab_type": "text"
      },
      "source": [
        "### Evaluation Metrics\n",
        "\n",
        "We explored mainly two type of evaluation metrics on our recommender system -- regression metrics and ranking metrics.\n",
        "The problem setting can be described as the following: \n",
        "\n",
        "Assume U is a set of M users, $U=\\{u_0,u_1,...,u_{M−1}\\}$. \n",
        "\n",
        "Each user $u_i$ having a set of N ground truth relevant movies $Di=\\{d_0,d_1,...,d_{N−1}\\}$ and a list of Q recommended movies, in order of decreasing relevance $Ri=\\{r_0,r_1,...,r_{Q−1}\\}$\n",
        "\n",
        "Our goal is to evaluate how relevant our recommended movies are for each user. The relevance of the sets and the effectiveness of the algorithms can be measured using the metrics listed below.\n",
        "\n",
        "Before diving into definition of metrics, we define a indicator function which, provided a recommended document and a set of ground truth relevant documents, returns a 0/1 score to indicate relevance.\n",
        "\n",
        "$rel_D(r)$ = \\begin{cases}\n",
        "    1,& \\text{if } r\\in D\\\\\n",
        "    0,              & \\text{otherwise}\n",
        "\\end{cases}\n",
        "\n",
        "\n",
        "#### I. Regression Metric\n",
        "\n",
        "* Root Mean Square Error (RMSE): $\\frac{\\sqrt{\\sum_{i=0}^{N - 1}e_{i}^2}}{N}$\n",
        "* Mean Absolute Error (MAE): $\\frac{\\sum_{i=0}^{N - 1}|e_{i}|}{N}$\n",
        "* R-squared: $1 - \\frac{\\sum_{i=0}^{N - 1} (e_i)^2 }{\\sum_{i=0}^{N - 1} (y_i - \\bar{y}_i)^2}$\n",
        "* Explained Variance: $1 - \\frac{Var(y - \\hat{y})}{Var(y)} $"
      ]
    },
    {
      "cell_type": "code",
      "metadata": {
        "id": "y7vZQzQwFbxh",
        "colab_type": "code",
        "colab": {}
      },
      "source": [
        "def regression_metric(ratings, predicted_ratings):\n",
        "    \"\"\"\n",
        "        Calculate regression metrics\n",
        "        - root mean square error\n",
        "        - mean absoluate error\n",
        "        - r squared\n",
        "        - explained variance\n",
        "        by joining original and predicted rating dataset into \n",
        "        ((userId, movieId), (original_rating, predicted_rating)).\n",
        "        :ratings: original rating dataset. Format:   userId | movieId | rating\n",
        "        :predicted_ratings: predicted rating dataset\n",
        "    \"\"\"\n",
        "    ratings_tuple = ratings.rdd.map(lambda r: ((r.userId, r.movieId), r.rating))\n",
        "    predicted_ratings_tuple = predicted_ratings.rdd.map(lambda r: ((r.userId, r.movieId), r.rating))\n",
        "    score_and_labels = predicted_ratings_tuple.join(ratings_tuple).map(lambda tup: tup[1])\n",
        "    metrics = RegressionMetrics(score_and_labels)\n",
        "    print(\"RMSE = %s\" % metrics.rootMeanSquaredError)\n",
        "    print(\"MAE = %s\" % metrics.meanAbsoluteError)\n",
        "    print(\"R-squared = %s\" % metrics.r2)\n",
        "    print(\"Explained Variance = %s\" % metrics.explainedVariance)\n",
        "    return metrics.rootMeanSquaredError, metrics.meanAbsoluteError, metrics.r2, metrics.explainedVariance"
      ],
      "execution_count": 0,
      "outputs": []
    },
    {
      "cell_type": "markdown",
      "metadata": {
        "id": "eujyiblKFbxi",
        "colab_type": "text"
      },
      "source": [
        "#### II. Ranking Metric\n",
        "\n",
        "* Precision @ k: measures on average what proportion of first k recommended movies to users are contained in true set of relevant movies to each user, i.e.<br>\n",
        "\n",
        "<font size=2.5>$p(k) = \\frac{1}{M}\\sum_{i=0}^{M-1}\\frac{1}{k}\\sum_{j=0}^{min(|D|, k)-1}rel_{D_i}(R_i(j))$</font>\n",
        "\n",
        "* Mean Average Precision @ k: measures similar quantity as Precision @ k except imposing penalty regarding order of recommendation, i.e. <br>\n",
        "\n",
        "<font size=2.5>$p(k) = \\frac{1}{M}\\sum_{i=0}^{M-1}\\frac{1}{k}\\sum_{j=0}^{min(|D|, k)-1}\\frac{rel_{D_i}(R_i(j))}{j + 1}$</font>\n",
        "\n",
        "* Normalized Discounted Continuous Gain (NDCG): measures how many of the first k recommended moveis are in the set of true relevant documents averaged across all users, while taking into account the order of the recommendations (movies are assumed to be in order of decreasing relevance).\n",
        "\n",
        "<font size=2.5>$NDCG(k) = \\frac{1}{M}\\sum_{i=0}^{M-1} \\frac{1}{IDCG(D_i, k)}\\sum_{j=0}^{n-1}\\frac{rel_{D_i}(R_i(j))}{ln(j + 1)} $<font> <br>\n",
        "where $IDCG(k) = \\sum_{j=0}^{min(|D|, k)-1}\\frac{rel_{D_i}(R_i(j))}{ln(j + 1)}$ represents best possible attained by the most ideal ranking.\n",
        "    \n",
        "**Procedure**:\n",
        "\n",
        "(i) Filter out movies with rating score < r, because we are only interested in evaluating relevant movies, or 'good' recommendations. \n",
        "\n",
        "(ii) Sort ground truths and predictions by ratings (predicted ratings) and retrieve top k movies as reccommended items for a user. If in test set, a user rates fewer than k movies, then only retrieve all his rated movies.\n",
        "\n",
        "\n",
        "(iii) Calculate specific ranking metric on test set and predicted set."
      ]
    },
    {
      "cell_type": "code",
      "metadata": {
        "id": "OUaNhtqgFbxj",
        "colab_type": "code",
        "colab": {}
      },
      "source": [
        "# Ranking metrics\n",
        "# https://vinta.ws/code/spark-ml-cookbook-pyspark.html\n",
        "def ranking_metric(ratings, predicted_ratings, r=3, k=5):\n",
        "    \"\"\"\n",
        "        Calculate ranking metrics\n",
        "        - mean average precision\n",
        "        - precision at k\n",
        "        - normalized discounted continuous gain at k\n",
        "        by collecting recommended items and then comparing them to relevant groud truth items, \n",
        "        which takes form of\n",
        "        ((userId, movieId), ([[predicted_item1, predicted_item2, ...], [item1, item2, ...]))\n",
        "        :ratings: original rating dataset. Format:   userId | movieId | rating\n",
        "        :predicted ratings: predicted rating dataset, same format\n",
        "        :r: threshold for rating that defines a 'relevant' movie\n",
        "        :k: top k positions used for comparison\n",
        "    \"\"\"\n",
        "    windowSpec = Window.partitionBy('userId').orderBy(col('rating').desc())\n",
        "    perUserPredictedItemsDF = predicted_ratings \\\n",
        "        .where('rating >= {0}'.format(r)) \\\n",
        "        .select('userId', 'movieId', 'rating', F.rank().over(windowSpec).alias('rank')) \\\n",
        "        .where('rank <= {0}'.format(k)) \\\n",
        "        .groupBy('userId') \\\n",
        "        .agg(expr('collect_list(movieId) as itemsId'))\n",
        "    \n",
        "    windowSpec = Window.partitionBy('userId').orderBy(col('rating').desc())\n",
        "    perUserActualItemsDF = ratings \\\n",
        "        .where('rating >= {0}'.format(r)) \\\n",
        "        .select('userId', 'movieId', 'rating', F.rank().over(windowSpec).alias('rank')) \\\n",
        "        .where('rank <= {0}'.format(k)) \\\n",
        "        .groupBy('userId') \\\n",
        "        .agg(expr('collect_list(movieId) as itemsId')) \n",
        "    \n",
        "    perUserItemsRDD = perUserPredictedItemsDF.join(perUserActualItemsDF, 'userId') \\\n",
        "        .rdd \\\n",
        "        .map(lambda row: (row[1], row[2]))\n",
        "    rankingMetrics = RankingMetrics(perUserItemsRDD)\n",
        "\n",
        "    print(\"mean Average Precision = %s\" %rankingMetrics.meanAveragePrecision)\n",
        "    print(\"Precision at k = %s\" %rankingMetrics.precisionAt(k))\n",
        "    print(\"NDCG at k = %s\" %rankingMetrics.ndcgAt(k))  \n",
        "    \n",
        "    return rankingMetrics.meanAveragePrecision, rankingMetrics.precisionAt(k), rankingMetrics.ndcgAt(k)"
      ],
      "execution_count": 0,
      "outputs": []
    },
    {
      "cell_type": "markdown",
      "metadata": {
        "id": "A2Gwbct_Fbxk",
        "colab_type": "text"
      },
      "source": [
        "#### III. Coverage"
      ]
    },
    {
      "cell_type": "code",
      "metadata": {
        "id": "pE1h47omFbxl",
        "colab_type": "code",
        "colab": {}
      },
      "source": [
        "def user_coverage_metric(ratings, predicted_ratings, r=3, k=5):\n",
        "    windowSpec = Window.partitionBy('userId').orderBy(col('rating').desc())\n",
        "    perUserPredictedItemsDF = predicted_ratings_baseline \\\n",
        "        .where('rating >= {0}'.format(r)) \\\n",
        "        .select(col('userId').alias('p_userId'), col('movieId').alias('p_movieId'), \\\n",
        "                F.col('rating').alias('p_ratings'), F.rank().over(windowSpec).alias('rank'))  \n",
        "    # join with test set ratings and rename columns\n",
        "    joined = perUserPredictedItemsDF \\\n",
        "        .join(val, (perUserPredictedItemsDF.p_userId ==val.userId) & (perUserPredictedItemsDF.p_movieId == val.movieId))     \n",
        "    # the number of users have above threshold, 'successful' recommendations\n",
        "    covered_users = joined.where('rating >= {0}'.format(r)) \\\n",
        "        .groupBy('p_userId') \\\n",
        "        .agg(F.countDistinct('p_movieId').alias('count')) \\\n",
        "        .where('count >= {0}'.format(k)) \\\n",
        "        .agg(F.countDistinct('p_userId'))    \n",
        "    covered_users = covered_users.collect()[0][0]\n",
        "    # the numeber of user have above threshold groudtruths \n",
        "    actual = val.where('rating >= {0}'.format(r)) \\\n",
        "        .groupBy('userId') \\\n",
        "        .agg(F.countDistinct('movieId').alias('count')) \\\n",
        "        .where('count >= {0}'.format(k)) \\\n",
        "        .agg(F.countDistinct('userId'))\n",
        "    total_users = actual.collect()[0][0]\n",
        "    \n",
        "    user_coverage = covered_users * 1.0 / total_users\n",
        "    return user_coverage\n",
        "            \n",
        "def item_coverage_metric(ratings, predicted_ratings, r=3, k=5):\n",
        "    windowSpec = Window.partitionBy('movieId').orderBy(col('rating').desc())\n",
        "    perUserPredictedItemsDF = predicted_ratings_baseline \\\n",
        "        .where('rating >= {0}'.format(r)) \\\n",
        "        .select(col('userId').alias('p_userId'), col('movieId').alias('p_movieId'), \\\n",
        "                F.col('rating').alias('p_ratings'), F.rank().over(windowSpec).alias('rank'))  \n",
        "    # join with test set ratings and rename columns\n",
        "    joined = perUserPredictedItemsDF \\\n",
        "        .join(val, (perUserPredictedItemsDF.p_userId ==val.userId) & (perUserPredictedItemsDF.p_movieId == val.movieId))     \n",
        "    # the number of users have above threshold, 'successful' recommendations\n",
        "    covered_users = joined.where('rating >= {0}'.format(r)) \\\n",
        "        .groupBy('p_movieId') \\\n",
        "        .agg(F.countDistinct('p_userId').alias('count')) \\\n",
        "        .where('count >= {0}'.format(k)) \\\n",
        "        .agg(F.countDistinct('p_movieId'))    \n",
        "    covered_users = covered_users.collect()[0][0]\n",
        "    # the numeber of user have above threshold groudtruths \n",
        "    actual = val.where('rating >= {0}'.format(r)) \\\n",
        "        .groupBy('movieId') \\\n",
        "        .agg(F.countDistinct('userId').alias('count')) \\\n",
        "        .where('count >= {0}'.format(k)) \\\n",
        "        .agg(F.countDistinct('movieId'))\n",
        "    total_users = actual.collect()[0][0]\n",
        "    \n",
        "    user_coverage = covered_users * 1.0 / total_users\n",
        "    return user_coverage\n",
        "\n",
        "\n",
        "def catelog_coverage_metric(ratings, predicted_ratings, r=3, k=5):\n",
        "    windowSpec = Window.partitionBy('userId').orderBy(col('rating').desc())\n",
        "    perUserPredictedItemsDF = predicted_ratings \\\n",
        "        .where('rating >= {0}'.format(r)) \\\n",
        "        .select('userId', 'movieId', 'rating', F.rank().over(windowSpec).alias('rank')) \\\n",
        "        .where('rank <= {0}'.format(k)) \\\n",
        "        .agg(F.countDistinct('movieId'))\n",
        "    num_rec_movies = perUserPredictedItemsDF.collect()[0][0]\n",
        "    \n",
        "    perUserActualItemsDF = ratings \\\n",
        "        .select('movieId') \\\n",
        "        .agg(F.countDistinct('movieId'))\n",
        "    num_total_movies = perUserActualItemsDF.collect()[0][0]\n",
        "    return num_rec_movies * 1.0 / num_total_movies"
      ],
      "execution_count": 0,
      "outputs": []
    },
    {
      "cell_type": "markdown",
      "metadata": {
        "id": "FtoF5JWVFbxo",
        "colab_type": "text"
      },
      "source": [
        "### Baseline Model <br>\n",
        "\n",
        "**Description:**"
      ]
    },
    {
      "cell_type": "code",
      "metadata": {
        "id": "e1KItd4AFbxq",
        "colab_type": "code",
        "colab": {}
      },
      "source": [
        "class BaselineModel:\n",
        "\n",
        "    def __init__(self, user_column, item_column,ratings_column):\n",
        "        self.user_col = user_column\n",
        "        self.item_col = item_column\n",
        "        self.ratings_col = ratings_column\n",
        "\n",
        "    def __find_avg_of_col(self, data, column):\n",
        "        return data.select(F.mean(F.col(column))).collect()[0][0]\n",
        "\n",
        "    def __subtract_from_col(self, data, column, value):\n",
        "        return data.withColumn('normalized_' + column, F.col(column)-value)\n",
        "\n",
        "    def train(self, training_data):\n",
        "        user_col = self.user_col\n",
        "        item_col = self.item_col\n",
        "        ratings_col = self.ratings_col\n",
        "        user_bias = {}\n",
        "        item_bias = {}\n",
        "\n",
        "        # find average and calculate bias for user and item\n",
        "        avg_rating = self.__find_avg_of_col(training_data, ratings_col)\n",
        "        norm_training_data = self.__subtract_from_col(training_data, ratings_col, avg_rating)\n",
        "        user_bias = norm_training_data.groupby(user_col).agg(F.avg('normalized_' + ratings_col)).\\\n",
        "                                                    rdd.map(lambda x : (x[0],x[1])).collectAsMap()\n",
        "        item_bias = norm_training_data.groupby(item_col).agg(F.avg('normalized_' + ratings_col)).\\\n",
        "                                                    rdd.map(lambda x : (x[0],x[1])).collectAsMap()\n",
        "\n",
        "        self.training_data = norm_training_data\n",
        "        self.avg_rating = avg_rating\n",
        "        self.user_bias = user_bias\n",
        "        self.item_bias = item_bias\n",
        "    \n",
        "        return avg_rating, user_bias, item_bias"
      ],
      "execution_count": 0,
      "outputs": []
    },
    {
      "cell_type": "code",
      "metadata": {
        "id": "Gk6D3DydFbxt",
        "colab_type": "code",
        "colab": {}
      },
      "source": [
        "baselineModel = BaselineModel(user_column='userId', item_column='movieId', ratings_column='rating')\n",
        "avg_rating, user_bias, item_bias = baselineModel.train(train)"
      ],
      "execution_count": 0,
      "outputs": []
    },
    {
      "cell_type": "code",
      "metadata": {
        "id": "mDAZsnjjFbxw",
        "colab_type": "code",
        "colab": {}
      },
      "source": [
        "def udf_predict(user_id, item_id):\n",
        "    \"\"\"\n",
        "        Predict function: average rating + user bias + item bias. Handle\n",
        "        corner cases where there is missing user id and item id. \n",
        "    \"\"\"\n",
        "    if (user_id in user_bias) and (item_id in item_bias) :\n",
        "        return avg_rating + user_bias[user_id] + item_bias[item_id]\n",
        "    elif user_id in user_bias:\n",
        "        return avg_rating + user_bias[user_id]\n",
        "    elif item_id in item_bias:\n",
        "        return avg_rating + item_bias[item_id]\n",
        "    else: \n",
        "        return avg_rating\n",
        "def predict(test_data, user_column, item_column, ratings_column):\n",
        "    predict_udf = F.udf(udf_predict, T.FloatType())\n",
        "    return test_data.withColumn(ratings_column, predict_udf(F.col(user_column), F.col(item_column)))"
      ],
      "execution_count": 0,
      "outputs": []
    },
    {
      "cell_type": "code",
      "metadata": {
        "id": "EBsOQa-lFbxx",
        "colab_type": "code",
        "colab": {}
      },
      "source": [
        "###Do cross join so we can predict on everything, not just the data that is available in the test set\n",
        "# user_vals = test.select('userId')\n",
        "# rating_vals = test.select('movieId')\n",
        "# predict_df = user_vals.crossJoin(rating_vals)\n",
        "predicted_ratings_baseline = predict(val, user_column='userId', item_column='movieId', ratings_column='rating')"
      ],
      "execution_count": 0,
      "outputs": []
    },
    {
      "cell_type": "code",
      "metadata": {
        "id": "25smZi2YFbxz",
        "colab_type": "code",
        "outputId": "9363ce87-9c88-4b60-96c8-eb503a36844e",
        "colab": {
          "base_uri": "https://localhost:8080/",
          "height": 87
        }
      },
      "source": [
        "rmse_baseline, mae_baseline, r2_baseline, explainedvar_baseline = \\\n",
        "regression_metric(val, predicted_ratings_baseline)"
      ],
      "execution_count": 35,
      "outputs": [
        {
          "output_type": "stream",
          "text": [
            "RMSE = 1.1243365225565773\n",
            "MAE = 0.8482376348356685\n",
            "R-squared = -0.07043911732158215\n",
            "Explained Variance = 0.897006700102819\n"
          ],
          "name": "stdout"
        }
      ]
    },
    {
      "cell_type": "code",
      "metadata": {
        "scrolled": true,
        "id": "bO6EMXU-Fbx0",
        "colab_type": "code",
        "outputId": "907357bf-c373-4bc5-b00a-5885860c7708",
        "colab": {
          "base_uri": "https://localhost:8080/",
          "height": 70
        }
      },
      "source": [
        "averageprecision_baseline, precision_baseline, ndcg_baseline = \\\n",
        "ranking_metric(val, predicted_ratings_baseline)"
      ],
      "execution_count": 36,
      "outputs": [
        {
          "output_type": "stream",
          "text": [
            "mean Average Precision = 0.9699627230952433\n",
            "Precision at k = 0.25974094286277866\n",
            "NDCG at k = 0.9765600201850375\n"
          ],
          "name": "stdout"
        }
      ]
    },
    {
      "cell_type": "markdown",
      "metadata": {
        "id": "llhFwpt5Fbx2",
        "colab_type": "text"
      },
      "source": [
        "### Item Based Model <br> <br>"
      ]
    },
    {
      "cell_type": "code",
      "metadata": {
        "id": "hX8rGVRYFbx2",
        "colab_type": "code",
        "colab": {}
      },
      "source": [
        "train_df = train.toPandas()\n",
        "val_df = test.toPandas()\n",
        "reader = Reader(rating_scale=(0.0,5.0))\n",
        "train_data = Dataset.load_from_df(train_df[['userId','movieId','rating']],reader)\n",
        "val_data = Dataset.load_from_df(val_df[['userId','movieId','rating']], reader)"
      ],
      "execution_count": 0,
      "outputs": []
    },
    {
      "cell_type": "code",
      "metadata": {
        "id": "eE4hgHetFbx4",
        "colab_type": "code",
        "colab": {}
      },
      "source": [
        "sim_options = {'name':'cosine', 'user_based':False}\n",
        "algo = KNNBasic(sim_options = sim_options)\n",
        "### Error \n",
        "algo.fit(train_data)\n",
        "predictions = algo.test(val_data)\n",
        "accuracy.rmse(predictions)"
      ],
      "execution_count": 0,
      "outputs": []
    },
    {
      "cell_type": "markdown",
      "metadata": {
        "id": "OsbUeONFFbx5",
        "colab_type": "text"
      },
      "source": [
        "### Matrix Factorization Model"
      ]
    },
    {
      "cell_type": "code",
      "metadata": {
        "id": "83RR3jPLFbx5",
        "colab_type": "code",
        "colab": {}
      },
      "source": [
        "# Example Run: ALS with random chosen parameters\n",
        "als = ALS(maxIter=10, regParam=0.01, userCol=\"userId\", itemCol=\"movieId\", ratingCol=\"rating\",\n",
        "          coldStartStrategy=\"drop\")\n",
        "als_model = als.fit(train)\n",
        "evaluator = RegressionEvaluator(metricName=\"rmse\", labelCol=\"rating\",\n",
        "                                predictionCol=\"prediction\")\n",
        "predicted_ratings_als = als_model.transform(val)\n",
        "predicted_ratings_als = \\\n",
        "    predicted_ratings_als.withColumn('rating', predicted_ratings_als.prediction).drop('prediction')"
      ],
      "execution_count": 0,
      "outputs": []
    },
    {
      "cell_type": "code",
      "metadata": {
        "id": "prUivyhdFbx8",
        "colab_type": "code",
        "outputId": "0790983a-8ddc-4f8d-811a-b652ba0aeb7a",
        "colab": {}
      },
      "source": [
        "rmse_als, mae_als, r2_als, explainedvar_als= \\\n",
        "regression_metric(val, predicted_ratings_als)"
      ],
      "execution_count": 0,
      "outputs": [
        {
          "output_type": "stream",
          "text": [
            "RMSE = 0.895115118791\n",
            "MAE = 0.670517276087\n",
            "R-squared = 0.256609993978\n",
            "Explained Variance = 0.691040291716\n"
          ],
          "name": "stdout"
        }
      ]
    },
    {
      "cell_type": "code",
      "metadata": {
        "id": "5ys8fx5nFbx-",
        "colab_type": "code",
        "outputId": "5f34dfd5-2957-41de-efd4-fcc9c0780ed0",
        "colab": {}
      },
      "source": [
        "# Re-run the cell when there is an error\n",
        "averageprecision_als, precision_als, ndcg_als = \\\n",
        "ranking_metric(val, predicted_ratings_als)"
      ],
      "execution_count": 0,
      "outputs": [
        {
          "output_type": "stream",
          "text": [
            "mean Average Precision = 0.529251556357\n",
            "Precision at k = 0.496996445356\n",
            "NDCG at k = 0.702288725705\n"
          ],
          "name": "stdout"
        }
      ]
    },
    {
      "cell_type": "markdown",
      "metadata": {
        "id": "4ZbD3b_AFbyI",
        "colab_type": "text"
      },
      "source": [
        "#### Hyperparameter Tuning"
      ]
    },
    {
      "cell_type": "code",
      "metadata": {
        "id": "zDH0sj6uFbyJ",
        "colab_type": "code",
        "colab": {}
      },
      "source": [
        "\"\"\"\n",
        "CAUTION: THIS CELL TAKES LONG TO RUN\n",
        "Hyperparameter tuning using one validation set. \n",
        "\"\"\"\n",
        "def hyperparameter_tuning(grid):\n",
        "  param_vals = []\n",
        "  for key,v in grid.items():\n",
        "      param_vals.append(v)\n",
        "      \n",
        "  final_results = dict()\n",
        "  for i in itertools.product(*param_vals):\n",
        "      \n",
        "      inputs = dict()\n",
        "      for j,(key,v) in enumerate(grid.items()):\n",
        "          inputs[key] = i[j]\n",
        "      inputs['userCol'] ='userId'\n",
        "      inputs['itemCol'] = 'movieId'\n",
        "      inputs['ratingCol'] = 'rating'\n",
        "      inputs['coldStartStrategy'] = 'drop'\n",
        "      als = ALS(**inputs)\n",
        "      model = als.fit(train)\n",
        "      predictions = model.transform(val)\n",
        "      predictions = predictions.withColumn('rating', predictions.prediction).drop('prediction')\n",
        "      cv_rmse, cv_mae, cv_rw, cv_exp_var = \\\n",
        "      regression_metric(val, predictions)\n",
        "      final_results[i] = {'rmse': cv_rmse}\n",
        "  \n",
        "  return final_results\n",
        "\n",
        "# If you want to run hyperparameter tuning using cross validation. This takes even longer time.\n",
        "# paramMap = ParamGridBuilder() \\\n",
        "#                     .addGrid(als.rank, [10, 50, 100]) \\\n",
        "#                     .addGrid(als.maxIter, [10]) \\\n",
        "#                     .addGrid(als.regParam, [0.01,0.001]) \\\n",
        "#                     .build()\n",
        "\n",
        "# evaluatorR = RegressionEvaluator(metricName=\"rmse\", labelCol=\"rating\")\n",
        "\n",
        "# # Run cross-validation, and choose the best set of parameters.\n",
        "# cv = CrossValidator(estimator=als,\n",
        "#                             estimatorParamMaps=paramMap,\n",
        "#                             evaluator=evaluatorR,\n",
        "#                            numFolds=5)\n",
        "\n",
        "# cv_res = cv.fit(subsampled_train)\n",
        "# final_results\n",
        "# predicted_ratings_als = cv_res.bestModel.transform(subsampled_test)\n",
        "# predicted_ratings_als = predicted_ratings_als.withColumn('rating', predicted_ratings_als.prediction).drop('prediction')"
      ],
      "execution_count": 0,
      "outputs": []
    },
    {
      "cell_type": "code",
      "metadata": {
        "id": "9_fnKD0XXDvc",
        "colab_type": "code",
        "colab": {}
      },
      "source": [
        "grid = {'maxIter': np.linspace(5,25,5).astype(int), 'rank':[20], 'regParam': [0.1]} "
      ],
      "execution_count": 0,
      "outputs": []
    },
    {
      "cell_type": "code",
      "metadata": {
        "id": "TNUxl-Z0XG-G",
        "colab_type": "code",
        "colab": {
          "base_uri": "https://localhost:8080/",
          "height": 372
        },
        "outputId": "12bb9e42-02d8-4f8d-aa44-557fff67a288"
      },
      "source": [
        "maxIter_results = hyperparameter_tuning(grid)"
      ],
      "execution_count": 33,
      "outputs": [
        {
          "output_type": "stream",
          "text": [
            "RMSE = 2.5512730180041228\n",
            "MAE = 2.213876003799786\n",
            "R-squared = -4.465322576591554\n",
            "Explained Variance = 5.43121749648\n",
            "RMSE = 1.5234581941717709\n",
            "MAE = 1.2630564577546632\n",
            "R-squared = -0.9487808812065732\n",
            "Explained Variance = 1.5625985611131634\n",
            "RMSE = 1.330618443914953\n",
            "MAE = 1.0863544675063626\n",
            "R-squared = -0.48665092726272463\n",
            "Explained Variance = 1.1167178494000325\n",
            "RMSE = 1.266634117531682\n",
            "MAE = 1.0239932933451168\n",
            "R-squared = -0.3471138206115383\n",
            "Explained Variance = 0.9931431060528412\n",
            "RMSE = 1.238508152369095\n",
            "MAE = 0.9953985695147448\n",
            "R-squared = -0.2879519690294159\n",
            "Explained Variance = 0.9425591322578566\n"
          ],
          "name": "stdout"
        }
      ]
    },
    {
      "cell_type": "code",
      "metadata": {
        "id": "7TYjpxOCIBDI",
        "colab_type": "code",
        "colab": {}
      },
      "source": [
        "def process_results(results, index):\n",
        "  param_list = []\n",
        "  rmse_list = []\n",
        "  for k,v in results.items():\n",
        "    param_list.append(k[index])\n",
        "    rmse_list.append(v['rmse'])\n",
        "  return param_list, rmse_list"
      ],
      "execution_count": 0,
      "outputs": []
    },
    {
      "cell_type": "code",
      "metadata": {
        "id": "j4D2LTYeEfJN",
        "colab_type": "code",
        "colab": {}
      },
      "source": [
        "max_iter_list, rmse_iter_list = process_results(maxIter_results,0)"
      ],
      "execution_count": 0,
      "outputs": []
    },
    {
      "cell_type": "code",
      "metadata": {
        "id": "9hEJRVcPFJAM",
        "colab_type": "code",
        "colab": {
          "base_uri": "https://localhost:8080/",
          "height": 312
        },
        "outputId": "11474b24-64be-4e96-8b04-ea6a85d1f172"
      },
      "source": [
        "plt.plot(max_iter_list,rmse_iter_list)\n",
        "plt.title('RMSE vs Max Iteration')\n",
        "plt.xlabel('Max Iteration')\n",
        "plt.ylabel('RMSE')"
      ],
      "execution_count": 45,
      "outputs": [
        {
          "output_type": "execute_result",
          "data": {
            "text/plain": [
              "Text(0, 0.5, 'RMSE')"
            ]
          },
          "metadata": {
            "tags": []
          },
          "execution_count": 45
        },
        {
          "output_type": "display_data",
          "data": {
            "image/png": "[encoded data removed]",
            "text/plain": [
              "<Figure size 432x288 with 1 Axes>"
            ]
          },
          "metadata": {
            "tags": []
          }
        }
      ]
    },
    {
      "cell_type": "code",
      "metadata": {
        "id": "YgTHayajFnQU",
        "colab_type": "code",
        "colab": {}
      },
      "source": [
        "grid = {'maxIter': [25], 'rank':np.linspace(10,50,5).astype(int), 'regParam': [0.1]}"
      ],
      "execution_count": 0,
      "outputs": []
    },
    {
      "cell_type": "code",
      "metadata": {
        "id": "AQcSW2-5FnTa",
        "colab_type": "code",
        "colab": {
          "base_uri": "https://localhost:8080/",
          "height": 372
        },
        "outputId": "1925ba93-d14d-4be9-a15b-0f58fb13ca2f"
      },
      "source": [
        "rank_results = hyperparameter_tuning(grid)"
      ],
      "execution_count": 50,
      "outputs": [
        {
          "output_type": "stream",
          "text": [
            "RMSE = 1.2759736359598604\n",
            "MAE = 1.013234652918884\n",
            "R-squared = -0.36705293103401915\n",
            "Explained Variance = 1.0499906871826763\n",
            "RMSE = 1.238508152369095\n",
            "MAE = 0.9953985695147448\n",
            "R-squared = -0.2879519690294159\n",
            "Explained Variance = 0.9425591322578566\n",
            "RMSE = 1.2257168419900661\n",
            "MAE = 0.9891615326487391\n",
            "R-squared = -0.2614854196254093\n",
            "Explained Variance = 0.9156503683033267\n",
            "RMSE = 1.2188498419628548\n",
            "MAE = 0.9841657307992777\n",
            "R-squared = -0.24739023185084763\n",
            "Explained Variance = 0.903184919545412\n",
            "RMSE = 1.2169645744548008\n",
            "MAE = 0.9832248178215358\n",
            "R-squared = -0.24353439093656126\n",
            "Explained Variance = 0.885860700933043\n"
          ],
          "name": "stdout"
        }
      ]
    },
    {
      "cell_type": "code",
      "metadata": {
        "id": "kZDOdQxCImC4",
        "colab_type": "code",
        "colab": {
          "base_uri": "https://localhost:8080/",
          "height": 312
        },
        "outputId": "d80804d1-52dd-4c4d-b784-929065be6ba1"
      },
      "source": [
        "rank_list, rmse_rank_list = process_results(rank_results,1)\n",
        "plt.plot(rank_list,rmse_rank_list)\n",
        "plt.title('RMSE vs Rank')\n",
        "plt.xlabel('Rank')\n",
        "plt.ylabel('RMSE')"
      ],
      "execution_count": 64,
      "outputs": [
        {
          "output_type": "execute_result",
          "data": {
            "text/plain": [
              "Text(0, 0.5, 'RMSE')"
            ]
          },
          "metadata": {
            "tags": []
          },
          "execution_count": 64
        },
        {
          "output_type": "display_data",
          "data": {
            "image/png": "[encoded data removed]",
            "text/plain": [
              "<Figure size 432x288 with 1 Axes>"
            ]
          },
          "metadata": {
            "tags": []
          }
        }
      ]
    },
    {
      "cell_type": "code",
      "metadata": {
        "id": "7USaUJpOJdEM",
        "colab_type": "code",
        "colab": {}
      },
      "source": [
        "# Example Run: ALS with random chosen parameters\n",
        "als = ALS(maxIter=25, regParam=0.01, rank = 100, userCol=\"userId\", itemCol=\"movieId\", ratingCol=\"rating\",\n",
        "          coldStartStrategy=\"drop\")\n",
        "als_model = als.fit(train)\n",
        "evaluator = RegressionEvaluator(metricName=\"rmse\", labelCol=\"rating\",\n",
        "                                predictionCol=\"prediction\")\n",
        "predicted_ratings_als = als_model.transform(val)\n",
        "predicted_ratings_als = \\\n",
        "    predicted_ratings_als.withColumn('rating', predicted_ratings_als.prediction).drop('prediction')"
      ],
      "execution_count": 0,
      "outputs": []
    },
    {
      "cell_type": "code",
      "metadata": {
        "id": "kibnc-zUJulV",
        "colab_type": "code",
        "colab": {}
      },
      "source": [
        "grid = {'maxIter': [25], 'rank':[50], 'regParam':np.linspace(.1,.5,5)}"
      ],
      "execution_count": 0,
      "outputs": []
    },
    {
      "cell_type": "code",
      "metadata": {
        "id": "6hmL0eRaJnoe",
        "colab_type": "code",
        "colab": {
          "base_uri": "https://localhost:8080/",
          "height": 372
        },
        "outputId": "47188ae3-c6ea-4b38-e573-c8bf2ce8e316"
      },
      "source": [
        "regularization_results = hyperparameter_tuning(grid)"
      ],
      "execution_count": 75,
      "outputs": [
        {
          "output_type": "stream",
          "text": [
            "RMSE = 1.2169645744548008\n",
            "MAE = 0.9832248178215358\n",
            "R-squared = -0.24353439093656126\n",
            "Explained Variance = 0.885860700933043\n",
            "RMSE = 1.1640439288424664\n",
            "MAE = 0.9305057156356168\n",
            "R-squared = -0.13773382073215124\n",
            "Explained Variance = 0.7953085838150661\n",
            "RMSE = 1.1406048570880876\n",
            "MAE = 0.9070658746782891\n",
            "R-squared = -0.09237653186393868\n",
            "Explained Variance = 0.7549266842809625\n",
            "RMSE = 1.128702033107405\n",
            "MAE = 0.8947194598618473\n",
            "R-squared = -0.0696964211022415\n",
            "Explained Variance = 0.7267663496817095\n",
            "RMSE = 1.1354100241163725\n",
            "MAE = 0.9032929411767453\n",
            "R-squared = -0.0824488325779884\n",
            "Explained Variance = 0.7174145455959837\n"
          ],
          "name": "stdout"
        }
      ]
    },
    {
      "cell_type": "code",
      "metadata": {
        "id": "BE9cq8xUJntL",
        "colab_type": "code",
        "colab": {
          "base_uri": "https://localhost:8080/",
          "height": 312
        },
        "outputId": "9bb4e97d-46e2-45f4-b320-0a9f285703e1"
      },
      "source": [
        "reg_list, rmse_reg_list = process_results(regularization_results,2)\n",
        "plt.plot(reg_list,rmse_reg_list)\n",
        "plt.title('RMSE vs Rank')\n",
        "plt.xlabel('Rank')\n",
        "plt.ylabel('RMSE')"
      ],
      "execution_count": 77,
      "outputs": [
        {
          "output_type": "execute_result",
          "data": {
            "text/plain": [
              "Text(0, 0.5, 'RMSE')"
            ]
          },
          "metadata": {
            "tags": []
          },
          "execution_count": 77
        },
        {
          "output_type": "display_data",
          "data": {
            "image/png": "[encoded data removed]",
            "text/plain": [
              "<Figure size 432x288 with 1 Axes>"
            ]
          },
          "metadata": {
            "tags": []
          }
        }
      ]
    },
    {
      "cell_type": "markdown",
      "metadata": {
        "id": "TeUCTqiZSV67",
        "colab_type": "text"
      },
      "source": [
        "Peak performance after tuning, 1.1287 RMSE"
      ]
    },
    {
      "cell_type": "code",
      "metadata": {
        "id": "YKYtia9-FbyM",
        "colab_type": "code",
        "colab": {}
      },
      "source": [
        "# averageprecision_als, precision_als, ndcg_als = \\\n",
        "# ranking_metric(val, predicted_ratings_als)"
      ],
      "execution_count": 0,
      "outputs": []
    },
    {
      "cell_type": "markdown",
      "metadata": {
        "id": "YC3pZEyzFbyN",
        "colab_type": "text"
      },
      "source": [
        "## Performance Comparison on Test Set"
      ]
    },
    {
      "cell_type": "code",
      "metadata": {
        "id": "3T-KY6COFbyO",
        "colab_type": "code",
        "colab": {}
      },
      "source": [
        "# combine train and cv\n",
        "\n",
        "\n",
        "# run three models on traincv and evaluate on test\n",
        "\n",
        "\n",
        "# Create visualization of metrics change"
      ],
      "execution_count": 0,
      "outputs": []
    },
    {
      "cell_type": "code",
      "metadata": {
        "id": "Hmz_OuENFbyR",
        "colab_type": "code",
        "colab": {}
      },
      "source": [
        ""
      ],
      "execution_count": 0,
      "outputs": []
    }
  ]
}