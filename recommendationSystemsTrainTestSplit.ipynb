{
  "nbformat": 4,
  "nbformat_minor": 0,
  "metadata": {
    "colab": {
      "name": "recommendationSystemsTrainTestSplit.ipynb",
      "provenance": [],
      "include_colab_link": true
    },
    "kernelspec": {
      "name": "python3",
      "display_name": "Python 3"
    }
  },
  "cells": [
    {
      "cell_type": "markdown",
      "metadata": {
        "id": "view-in-github",
        "colab_type": "text"
      },
      "source": [
        "<a href=\"https://colab.research.google.com/github/yjs1210/movie-recommendations/blob/master/recommendationSystemsTrainTestSplit.ipynb\" target=\"_parent\"><img src=\"https://colab.research.google.com/assets/colab-badge.svg\" alt=\"Open In Colab\"/></a>"
      ]
    },
    {
      "cell_type": "code",
      "metadata": {
        "id": "XGIUDTiG64V5",
        "colab_type": "code",
        "colab": {
          "base_uri": "https://localhost:8080/",
          "height": 122
        },
        "outputId": "272a5cdf-5d9b-4143-da95-88b182f00999"
      },
      "source": [
        "from google.colab import drive\n",
        "drive.mount('/content/drive')"
      ],
      "execution_count": 1,
      "outputs": [
        {
          "output_type": "stream",
          "text": [
            "Go to this URL in a browser: https://accounts.google.com/o/oauth2/auth?client_id=947318989803-6bn6qk8qdgf4n4g3pfee6491hc0brc4i.apps.googleusercontent.com&redirect_uri=urn%3Aietf%3Awg%3Aoauth%3A2.0%3Aoob&scope=email%20https%3A%2F%2Fwww.googleapis.com%2Fauth%2Fdocs.test%20https%3A%2F%2Fwww.googleapis.com%2Fauth%2Fdrive%20https%3A%2F%2Fwww.googleapis.com%2Fauth%2Fdrive.photos.readonly%20https%3A%2F%2Fwww.googleapis.com%2Fauth%2Fpeopleapi.readonly&response_type=code\n",
            "\n",
            "Enter your authorization code:\n",
            "··········\n",
            "Mounted at /content/drive\n"
          ],
          "name": "stdout"
        }
      ]
    },
    {
      "cell_type": "code",
      "metadata": {
        "id": "KuaHTIM77Bjf",
        "colab_type": "code",
        "colab": {}
      },
      "source": [
        "!apt-get install openjdk-8-jdk-headless -qq > /dev/null\n",
        "!wget -q https://www-us.apache.org/dist/spark/spark-2.4.4/spark-2.4.4-bin-hadoop2.7.tgz\n",
        "!tar xf spark-2.4.4-bin-hadoop2.7.tgz\n",
        "!pip install -q findspark"
      ],
      "execution_count": 0,
      "outputs": []
    },
    {
      "cell_type": "code",
      "metadata": {
        "id": "fZzAFhsj7GY2",
        "colab_type": "code",
        "colab": {}
      },
      "source": [
        "# setup libraries and env\n",
        "import os\n",
        "os.environ[\"JAVA_HOME\"] = \"/usr/lib/jvm/java-8-openjdk-amd64\"\n",
        "os.environ[\"SPARK_HOME\"] = \"/content/spark-2.4.4-bin-hadoop2.7\"\n",
        "import findspark\n",
        "findspark.init()\n",
        "from pyspark.sql import SparkSession\n",
        "spark = SparkSession.builder.master(\"local[*]\").getOrCreate()\n",
        "import pyspark.sql.functions as F\n",
        "import pyspark.sql.types as T\n",
        "from pyspark.sql.window import *\n",
        "import numpy as np"
      ],
      "execution_count": 0,
      "outputs": []
    },
    {
      "cell_type": "code",
      "metadata": {
        "id": "2q7bXNh47M5x",
        "colab_type": "code",
        "colab": {
          "base_uri": "https://localhost:8080/",
          "height": 119
        },
        "outputId": "2fdc79d5-0072-47fc-e2a6-6f8683f48b95"
      },
      "source": [
        "# read ratings dataset and process timestamp column as timestamp\n",
        "ratings = spark.read.csv('/content/drive/My Drive/RecommendationSystems/ml-20m/ratings.csv', header = True, inferSchema=True)\n",
        "ratings = ratings.withColumn(\"timestamp\", ratings[\"timestamp\"].cast(T.TimestampType()))\n",
        "ratings.printSchema()"
      ],
      "execution_count": 5,
      "outputs": [
        {
          "output_type": "stream",
          "text": [
            "root\n",
            " |-- userId: integer (nullable = true)\n",
            " |-- movieId: integer (nullable = true)\n",
            " |-- rating: double (nullable = true)\n",
            " |-- timestamp: timestamp (nullable = true)\n",
            "\n"
          ],
          "name": "stdout"
        }
      ]
    },
    {
      "cell_type": "code",
      "metadata": {
        "id": "Py0MS9Up7XZY",
        "colab_type": "code",
        "colab": {}
      },
      "source": [
        "# limit below which column entities would be removed\n",
        "limit = 10\n",
        "# test size\n",
        "test_size = 0.05\n",
        "def udf_user_limit(user_counts):\n",
        "  if user_counts < limit:\n",
        "    return -1\n",
        "  else:\n",
        "    if (user_counts * (1-test_size)) <= limit:\n",
        "      return limit\n",
        "    else:\n",
        "      return int(np.around(user_counts * (1-test_size)))\n",
        "user_limit = F.udf(udf_user_limit, T.IntegerType())"
      ],
      "execution_count": 0,
      "outputs": []
    },
    {
      "cell_type": "code",
      "metadata": {
        "id": "d2C-fl0W7hlk",
        "colab_type": "code",
        "colab": {}
      },
      "source": [
        "# train-test function\n",
        "def train_test_split(data, col_to_split_on= 'userId', timestamp_col = 'timestamp'):\n",
        "  # original columns\n",
        "  orig_cols = data.columns\n",
        "  # define count col\n",
        "  count_col = 'count(' + col_to_split_on + ')'\n",
        "  # do user ratings count\n",
        "  counts_for_col = data.groupby(col_to_split_on).agg(F.count(col_to_split_on))\n",
        "  # generate limits on each user based on rules\n",
        "  limits = counts_for_col.withColumn('train_limit', user_limit(F.col(count_col)))\n",
        "  # remove users having less than limit no of ratings\n",
        "  limits_filtered = limits.filter(limits.train_limit > 0)\n",
        "  # generate row numbers based on temporality\n",
        "  data_row_num = data.withColumn(\"row_num\", F.row_number().over(Window.partitionBy(col_to_split_on).orderBy(timestamp_col)))\n",
        "  # join ratings and user counts dfs together\n",
        "  data_row_num = data_row_num.alias('a')\n",
        "  limits_filtered = limits_filtered.alias('b')\n",
        "  merged_data = data_row_num.join(limits_filtered,F.col('b.' + col_to_split_on) == F.col('a.' + col_to_split_on)).select([F.col('a.'+xx) for xx in data_row_num.columns] + [F.col('b.' + count_col),F.col('b.train_limit')])\n",
        "  # generate selection column based on number limit\n",
        "  final_train_test = merged_data.withColumn('selection', F.col('row_num') <= F.col('train_limit'))\n",
        "  # find train and test \n",
        "  train = final_train_test.filter(final_train_test.selection == True).select(orig_cols)\n",
        "  test = final_train_test.filter(final_train_test.selection == False).select(orig_cols)\n",
        "  return train, test"
      ],
      "execution_count": 0,
      "outputs": []
    },
    {
      "cell_type": "code",
      "metadata": {
        "id": "J5XzQri37196",
        "colab_type": "code",
        "colab": {}
      },
      "source": [
        "# to check if test has more entities in any column\n",
        "def compatibility_test(train, test, cols_to_test = ['userId', 'movieId']):\n",
        "  cols_greater = []\n",
        "  for i in cols_to_test:\n",
        "    train_unique = train.select([i]).distinct().rdd.map(lambda x: x[0]).collect()\n",
        "    test_unique = test.select([i]).distinct().rdd.map(lambda x: x[0]).collect()\n",
        "    size = len(list(set(test_unique) - set(train_unique)))\n",
        "    print(\"Test has %d more %s\" %(size, i))\n",
        "    cols_greater.append(i)\n",
        "  return cols_greater"
      ],
      "execution_count": 0,
      "outputs": []
    },
    {
      "cell_type": "code",
      "metadata": {
        "id": "UgFXPg8_7nFe",
        "colab_type": "code",
        "colab": {}
      },
      "source": [
        "## change col_to_split_on to 'movieId', that would be better and make more sense\n",
        "train, test = train_test_split(ratings, col_to_split_on= 'movieId', timestamp_col='timestamp')"
      ],
      "execution_count": 0,
      "outputs": []
    },
    {
      "cell_type": "code",
      "metadata": {
        "id": "q97J84P07sah",
        "colab_type": "code",
        "colab": {
          "base_uri": "https://localhost:8080/",
          "height": 459
        },
        "outputId": "b1b2fba7-13ad-4e2a-e399-1c4dcb95cdc2"
      },
      "source": [
        "train.limit(100).show()"
      ],
      "execution_count": 10,
      "outputs": [
        {
          "output_type": "stream",
          "text": [
            "+------+-------+------+-------------------+\n",
            "|userId|movieId|rating|          timestamp|\n",
            "+------+-------+------+-------------------+\n",
            "|   148|     86|   2.0|2002-04-16 14:06:04|\n",
            "|   148|    908|   4.0|2002-04-16 14:06:04|\n",
            "|   148|   2103|   2.0|2002-04-16 14:06:04|\n",
            "|   148|   1210|   5.0|2002-04-16 14:06:26|\n",
            "|   148|   1097|   5.0|2002-04-16 14:06:56|\n",
            "|   148|   1453|   3.0|2002-04-16 14:06:56|\n",
            "|   148|   1968|   3.0|2002-04-16 14:06:56|\n",
            "|   148|     18|   1.0|2002-04-16 14:07:27|\n",
            "|   148|    368|   3.0|2002-04-16 14:07:27|\n",
            "|   148|   1270|   5.0|2002-04-16 14:07:27|\n",
            "|   148|   5218|   4.0|2002-04-16 14:08:44|\n",
            "|   148|   5009|   2.0|2002-04-16 14:09:29|\n",
            "|   148|   5067|   3.0|2002-04-16 14:10:05|\n",
            "|   148|   5093|   1.0|2002-04-16 14:10:05|\n",
            "|   148|   5128|   1.0|2002-04-16 14:10:21|\n",
            "|   148|   5171|   3.0|2002-04-16 14:10:46|\n",
            "|   148|   4995|   5.0|2002-04-16 14:12:38|\n",
            "|   148|   4975|   1.0|2002-04-16 14:12:55|\n",
            "|   148|   3512|   2.0|2002-04-16 14:13:21|\n",
            "|   148|   3978|   4.0|2002-04-16 14:13:22|\n",
            "+------+-------+------+-------------------+\n",
            "only showing top 20 rows\n",
            "\n"
          ],
          "name": "stdout"
        }
      ]
    },
    {
      "cell_type": "code",
      "metadata": {
        "id": "-KJeUti67vXD",
        "colab_type": "code",
        "colab": {
          "base_uri": "https://localhost:8080/",
          "height": 459
        },
        "outputId": "3d571e7a-6d3b-45d7-eb91-6b7889b73684"
      },
      "source": [
        "test.limit(100).show()"
      ],
      "execution_count": 11,
      "outputs": [
        {
          "output_type": "stream",
          "text": [
            "+------+-------+------+-------------------+\n",
            "|userId|movieId|rating|          timestamp|\n",
            "+------+-------+------+-------------------+\n",
            "|   148|   2168|   4.0|2002-04-16 15:12:25|\n",
            "|   148|   5303|   3.0|2002-04-16 15:12:25|\n",
            "|   148|   2629|   4.0|2002-04-16 15:12:33|\n",
            "|   148|   3259|   3.0|2002-04-16 15:12:47|\n",
            "|   148|   1286|   3.0|2002-04-16 15:13:10|\n",
            "|   148|   1409|   3.0|2002-04-16 15:13:10|\n",
            "|   463|    477|   4.0|1996-05-30 14:35:01|\n",
            "|   463|     45|   4.0|1996-05-30 14:35:40|\n",
            "|   463|    281|   5.0|1996-05-30 14:35:40|\n",
            "|   463|    648|   3.0|1996-05-31 07:14:40|\n",
            "|   471|    588|   4.5|2009-08-08 03:38:16|\n",
            "|   471|   1265|   3.5|2009-08-08 03:40:19|\n",
            "|   471|    292|   3.0|2009-08-08 03:41:43|\n",
            "|   471|   6874|   4.5|2009-08-08 03:48:25|\n",
            "|   471|   4262|   4.0|2009-08-08 03:48:35|\n",
            "|   471|   3702|   3.0|2009-08-08 03:48:44|\n",
            "|   471|   3703|   3.0|2009-08-08 03:48:54|\n",
            "|   471|   3421|   3.0|2009-08-08 03:49:16|\n",
            "|   471|   3107|   2.0|2009-08-08 03:49:45|\n",
            "|   471|   2881|   4.0|2009-08-08 03:49:55|\n",
            "+------+-------+------+-------------------+\n",
            "only showing top 20 rows\n",
            "\n"
          ],
          "name": "stdout"
        }
      ]
    },
    {
      "cell_type": "code",
      "metadata": {
        "id": "iOoAdnTn-_kJ",
        "colab_type": "code",
        "colab": {}
      },
      "source": [
        "print((train.count(), len(train.columns)))"
      ],
      "execution_count": 0,
      "outputs": []
    },
    {
      "cell_type": "code",
      "metadata": {
        "id": "Lwwqn60D-_-9",
        "colab_type": "code",
        "colab": {}
      },
      "source": [
        "print((test.count(), len(test.columns)))"
      ],
      "execution_count": 0,
      "outputs": []
    },
    {
      "cell_type": "code",
      "metadata": {
        "id": "kAdE_ot87wbX",
        "colab_type": "code",
        "colab": {
          "base_uri": "https://localhost:8080/",
          "height": 51
        },
        "outputId": "4c0095f9-a282-4297-a81d-be3d08183854"
      },
      "source": [
        "cols_greater = compatibility_test(train, test, cols_to_test=['userId', 'movieId'])"
      ],
      "execution_count": 16,
      "outputs": [
        {
          "output_type": "stream",
          "text": [
            "Test has 0 more userId\n",
            "Test has 1594 more movieId\n"
          ],
          "name": "stdout"
        }
      ]
    },
    {
      "cell_type": "code",
      "metadata": {
        "id": "wdqhfLG67wep",
        "colab_type": "code",
        "colab": {}
      },
      "source": [
        "for i in cols_greater:\n",
        "  train_unique = train.select([i]).distinct().rdd.map(lambda x: x[0]).collect()\n",
        "  test_unique = test.select([i]).distinct().rdd.map(lambda x: x[0]).collect()\n",
        "  unique_to_test = list(set(test_unique) - set(train_unique))\n",
        "  test = test[~test[i].isin(unique_to_test)]"
      ],
      "execution_count": 0,
      "outputs": []
    },
    {
      "cell_type": "code",
      "metadata": {
        "id": "AIGz-oSq8UAj",
        "colab_type": "code",
        "colab": {
          "base_uri": "https://localhost:8080/",
          "height": 34
        },
        "outputId": "07deabe5-a7b2-4645-b60d-3ac1b6e4f52a"
      },
      "source": [
        "print((train.count(), len(train.columns)))"
      ],
      "execution_count": 18,
      "outputs": [
        {
          "output_type": "stream",
          "text": [
            "(19002066, 4)\n"
          ],
          "name": "stdout"
        }
      ]
    },
    {
      "cell_type": "code",
      "metadata": {
        "id": "RIZ2xVKO8UiG",
        "colab_type": "code",
        "colab": {
          "base_uri": "https://localhost:8080/",
          "height": 34
        },
        "outputId": "5ec72f9e-b737-4226-ff56-ce3adf974a72"
      },
      "source": [
        "print((test.count(), len(test.columns)))"
      ],
      "execution_count": 19,
      "outputs": [
        {
          "output_type": "stream",
          "text": [
            "(996207, 4)\n"
          ],
          "name": "stdout"
        }
      ]
    },
    {
      "cell_type": "code",
      "metadata": {
        "id": "NJWW6V2V9mGZ",
        "colab_type": "code",
        "colab": {
          "base_uri": "https://localhost:8080/",
          "height": 51
        },
        "outputId": "78357436-9ef8-4a17-cb49-d8e1f110133d"
      },
      "source": [
        "# should not have any entities extra in test now --\n",
        "cols_greater = compatibility_test(train, test, cols_to_test=['userId', 'movieId'])"
      ],
      "execution_count": 20,
      "outputs": [
        {
          "output_type": "stream",
          "text": [
            "Test has 0 more userId\n",
            "Test has 0 more movieId\n"
          ],
          "name": "stdout"
        }
      ]
    },
    {
      "cell_type": "code",
      "metadata": {
        "id": "4oAxXzCK8pm8",
        "colab_type": "code",
        "colab": {}
      },
      "source": [
        "# save dataframes\n",
        "train.write.csv('train.csv')\n",
        "test.write.csv('test.csv')"
      ],
      "execution_count": 0,
      "outputs": []
    }
  ]
}